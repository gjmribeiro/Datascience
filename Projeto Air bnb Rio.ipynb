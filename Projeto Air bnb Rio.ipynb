{
 "cells": [
  {
   "cell_type": "markdown",
   "id": "2c480e16",
   "metadata": {
    "heading_collapsed": true
   },
   "source": [
    "# Análise de dados projeto Air BNB Rio de Janeiro :\n",
    "\n",
    "-Definicão : Airbnb é um serviço que permite que pessoas do mundo inteiro ofereçam suas casas para usuários que buscam acomodações mais em conta em qualquer lugar do mundo. No site Airbnb, é possível oferecer um apenas um quarto ou a casa completa a outros usuários, como também alugar um espaço, caso seja a sua necessidade ou interesse. (fonte: https://www.techtudo.com.br/noticias/2017/01/o-que-e-airbnb.ghtml)\n",
    "\n",
    "\n",
    "-Esse projeto tem por finalidade construir um modelo de previsão para o preço de um aluguel de um imóvel, no Rio de Janeiro pelo Airbnb, apresentando as principais caracteristicas que interferem diretamente no seu valor. "
   ]
  },
  {
   "cell_type": "markdown",
   "id": "078c5771",
   "metadata": {
    "heading_collapsed": true
   },
   "source": [
    "# Importar bibliotecas"
   ]
  },
  {
   "cell_type": "code",
   "execution_count": 1,
   "id": "6b811418",
   "metadata": {
    "hidden": true
   },
   "outputs": [],
   "source": [
    "import pandas as pd #Diversas funcionalidades para trabalhar o data frame \n",
    "import pathlib # Percorrer arquivos de uma pasta\n",
    "import numpy as np #auxilio em calculos matematicos\n",
    "import matplotlib.pyplot as plt #plotagem de graficos \n",
    "import seaborn as sns #plotagem de graficos \n",
    "from jupyterthemes import jtplot\n",
    "import plotly.express as px\n",
    "jtplot.style(theme='monokai')\n",
    "\n",
    "#bibliotecas para previsão de modelos \n",
    "from sklearn.metrics import  r2_score, mean_squared_error\n",
    "from sklearn.linear_model import LinearRegression\n",
    "from sklearn.ensemble import RandomForestRegressor,ExtraTreesRegressor\n",
    "from sklearn.model_selection import train_test_split"
   ]
  },
  {
   "cell_type": "markdown",
   "id": "276d6a46",
   "metadata": {
    "heading_collapsed": true
   },
   "source": [
    "# Importar bancos de dados\n",
    "Como o banco de dados era muito grande e com diversos arquivos, foi utilizado a biblioteca para percorrer todos arquivos da pasta no computador e adicionar em um data frame "
   ]
  },
  {
   "cell_type": "code",
   "execution_count": 2,
   "id": "1bbf2b49",
   "metadata": {
    "hidden": true
   },
   "outputs": [
    {
     "name": "stdout",
     "output_type": "stream",
     "text": [
      "abril2018.csv\n"
     ]
    },
    {
     "name": "stderr",
     "output_type": "stream",
     "text": [
      "C:\\Users\\Gabriel\\AppData\\Local\\Temp\\ipykernel_11784\\1653651000.py:18: DtypeWarning: Columns (62,87) have mixed types. Specify dtype option on import or set low_memory=False.\n",
      "  df = pd.read_csv(caminho / c.name)\n",
      "C:\\Users\\Gabriel\\AppData\\Local\\Temp\\ipykernel_11784\\1653651000.py:21: FutureWarning: The frame.append method is deprecated and will be removed from pandas in a future version. Use pandas.concat instead.\n",
      "  base = base.append(df)\n"
     ]
    },
    {
     "name": "stdout",
     "output_type": "stream",
     "text": [
      "abril2019.csv\n"
     ]
    },
    {
     "name": "stderr",
     "output_type": "stream",
     "text": [
      "C:\\Users\\Gabriel\\AppData\\Local\\Temp\\ipykernel_11784\\1653651000.py:18: DtypeWarning: Columns (61,62,94) have mixed types. Specify dtype option on import or set low_memory=False.\n",
      "  df = pd.read_csv(caminho / c.name)\n",
      "C:\\Users\\Gabriel\\AppData\\Local\\Temp\\ipykernel_11784\\1653651000.py:21: FutureWarning: The frame.append method is deprecated and will be removed from pandas in a future version. Use pandas.concat instead.\n",
      "  base = base.append(df)\n"
     ]
    },
    {
     "name": "stdout",
     "output_type": "stream",
     "text": [
      "abril2020.csv\n"
     ]
    },
    {
     "name": "stderr",
     "output_type": "stream",
     "text": [
      "C:\\Users\\Gabriel\\AppData\\Local\\Temp\\ipykernel_11784\\1653651000.py:18: DtypeWarning: Columns (61,62,94) have mixed types. Specify dtype option on import or set low_memory=False.\n",
      "  df = pd.read_csv(caminho / c.name)\n",
      "C:\\Users\\Gabriel\\AppData\\Local\\Temp\\ipykernel_11784\\1653651000.py:21: FutureWarning: The frame.append method is deprecated and will be removed from pandas in a future version. Use pandas.concat instead.\n",
      "  base = base.append(df)\n"
     ]
    },
    {
     "name": "stdout",
     "output_type": "stream",
     "text": [
      "agosto2018.csv\n"
     ]
    },
    {
     "name": "stderr",
     "output_type": "stream",
     "text": [
      "C:\\Users\\Gabriel\\AppData\\Local\\Temp\\ipykernel_11784\\1653651000.py:18: DtypeWarning: Columns (87) have mixed types. Specify dtype option on import or set low_memory=False.\n",
      "  df = pd.read_csv(caminho / c.name)\n",
      "C:\\Users\\Gabriel\\AppData\\Local\\Temp\\ipykernel_11784\\1653651000.py:21: FutureWarning: The frame.append method is deprecated and will be removed from pandas in a future version. Use pandas.concat instead.\n",
      "  base = base.append(df)\n"
     ]
    },
    {
     "name": "stdout",
     "output_type": "stream",
     "text": [
      "agosto2019.csv\n"
     ]
    },
    {
     "name": "stderr",
     "output_type": "stream",
     "text": [
      "C:\\Users\\Gabriel\\AppData\\Local\\Temp\\ipykernel_11784\\1653651000.py:18: DtypeWarning: Columns (61,62,94) have mixed types. Specify dtype option on import or set low_memory=False.\n",
      "  df = pd.read_csv(caminho / c.name)\n",
      "C:\\Users\\Gabriel\\AppData\\Local\\Temp\\ipykernel_11784\\1653651000.py:21: FutureWarning: The frame.append method is deprecated and will be removed from pandas in a future version. Use pandas.concat instead.\n",
      "  base = base.append(df)\n"
     ]
    },
    {
     "name": "stdout",
     "output_type": "stream",
     "text": [
      "dezembro2018.csv\n"
     ]
    },
    {
     "name": "stderr",
     "output_type": "stream",
     "text": [
      "C:\\Users\\Gabriel\\AppData\\Local\\Temp\\ipykernel_11784\\1653651000.py:18: DtypeWarning: Columns (87) have mixed types. Specify dtype option on import or set low_memory=False.\n",
      "  df = pd.read_csv(caminho / c.name)\n",
      "C:\\Users\\Gabriel\\AppData\\Local\\Temp\\ipykernel_11784\\1653651000.py:21: FutureWarning: The frame.append method is deprecated and will be removed from pandas in a future version. Use pandas.concat instead.\n",
      "  base = base.append(df)\n"
     ]
    },
    {
     "name": "stdout",
     "output_type": "stream",
     "text": [
      "dezembro2019.csv\n"
     ]
    },
    {
     "name": "stderr",
     "output_type": "stream",
     "text": [
      "C:\\Users\\Gabriel\\AppData\\Local\\Temp\\ipykernel_11784\\1653651000.py:18: DtypeWarning: Columns (61,62,94) have mixed types. Specify dtype option on import or set low_memory=False.\n",
      "  df = pd.read_csv(caminho / c.name)\n",
      "C:\\Users\\Gabriel\\AppData\\Local\\Temp\\ipykernel_11784\\1653651000.py:21: FutureWarning: The frame.append method is deprecated and will be removed from pandas in a future version. Use pandas.concat instead.\n",
      "  base = base.append(df)\n"
     ]
    },
    {
     "name": "stdout",
     "output_type": "stream",
     "text": [
      "fevereiro2019.csv\n"
     ]
    },
    {
     "name": "stderr",
     "output_type": "stream",
     "text": [
      "C:\\Users\\Gabriel\\AppData\\Local\\Temp\\ipykernel_11784\\1653651000.py:18: DtypeWarning: Columns (61,62,94) have mixed types. Specify dtype option on import or set low_memory=False.\n",
      "  df = pd.read_csv(caminho / c.name)\n",
      "C:\\Users\\Gabriel\\AppData\\Local\\Temp\\ipykernel_11784\\1653651000.py:21: FutureWarning: The frame.append method is deprecated and will be removed from pandas in a future version. Use pandas.concat instead.\n",
      "  base = base.append(df)\n"
     ]
    },
    {
     "name": "stdout",
     "output_type": "stream",
     "text": [
      "fevereiro2020.csv\n"
     ]
    },
    {
     "name": "stderr",
     "output_type": "stream",
     "text": [
      "C:\\Users\\Gabriel\\AppData\\Local\\Temp\\ipykernel_11784\\1653651000.py:18: DtypeWarning: Columns (61,62,94) have mixed types. Specify dtype option on import or set low_memory=False.\n",
      "  df = pd.read_csv(caminho / c.name)\n",
      "C:\\Users\\Gabriel\\AppData\\Local\\Temp\\ipykernel_11784\\1653651000.py:21: FutureWarning: The frame.append method is deprecated and will be removed from pandas in a future version. Use pandas.concat instead.\n",
      "  base = base.append(df)\n"
     ]
    },
    {
     "name": "stdout",
     "output_type": "stream",
     "text": [
      "janeiro2019.csv\n"
     ]
    },
    {
     "name": "stderr",
     "output_type": "stream",
     "text": [
      "C:\\Users\\Gabriel\\AppData\\Local\\Temp\\ipykernel_11784\\1653651000.py:18: DtypeWarning: Columns (61,62,94) have mixed types. Specify dtype option on import or set low_memory=False.\n",
      "  df = pd.read_csv(caminho / c.name)\n",
      "C:\\Users\\Gabriel\\AppData\\Local\\Temp\\ipykernel_11784\\1653651000.py:21: FutureWarning: The frame.append method is deprecated and will be removed from pandas in a future version. Use pandas.concat instead.\n",
      "  base = base.append(df)\n"
     ]
    },
    {
     "name": "stdout",
     "output_type": "stream",
     "text": [
      "janeiro2020.csv\n"
     ]
    },
    {
     "name": "stderr",
     "output_type": "stream",
     "text": [
      "C:\\Users\\Gabriel\\AppData\\Local\\Temp\\ipykernel_11784\\1653651000.py:18: DtypeWarning: Columns (61,62,94) have mixed types. Specify dtype option on import or set low_memory=False.\n",
      "  df = pd.read_csv(caminho / c.name)\n",
      "C:\\Users\\Gabriel\\AppData\\Local\\Temp\\ipykernel_11784\\1653651000.py:21: FutureWarning: The frame.append method is deprecated and will be removed from pandas in a future version. Use pandas.concat instead.\n",
      "  base = base.append(df)\n"
     ]
    },
    {
     "name": "stdout",
     "output_type": "stream",
     "text": [
      "julho2018.csv\n"
     ]
    },
    {
     "name": "stderr",
     "output_type": "stream",
     "text": [
      "C:\\Users\\Gabriel\\AppData\\Local\\Temp\\ipykernel_11784\\1653651000.py:18: DtypeWarning: Columns (87) have mixed types. Specify dtype option on import or set low_memory=False.\n",
      "  df = pd.read_csv(caminho / c.name)\n",
      "C:\\Users\\Gabriel\\AppData\\Local\\Temp\\ipykernel_11784\\1653651000.py:21: FutureWarning: The frame.append method is deprecated and will be removed from pandas in a future version. Use pandas.concat instead.\n",
      "  base = base.append(df)\n"
     ]
    },
    {
     "name": "stdout",
     "output_type": "stream",
     "text": [
      "julho2019.csv\n"
     ]
    },
    {
     "name": "stderr",
     "output_type": "stream",
     "text": [
      "C:\\Users\\Gabriel\\AppData\\Local\\Temp\\ipykernel_11784\\1653651000.py:18: DtypeWarning: Columns (61,62,94) have mixed types. Specify dtype option on import or set low_memory=False.\n",
      "  df = pd.read_csv(caminho / c.name)\n",
      "C:\\Users\\Gabriel\\AppData\\Local\\Temp\\ipykernel_11784\\1653651000.py:21: FutureWarning: The frame.append method is deprecated and will be removed from pandas in a future version. Use pandas.concat instead.\n",
      "  base = base.append(df)\n"
     ]
    },
    {
     "name": "stdout",
     "output_type": "stream",
     "text": [
      "junho2019.csv\n"
     ]
    },
    {
     "name": "stderr",
     "output_type": "stream",
     "text": [
      "C:\\Users\\Gabriel\\AppData\\Local\\Temp\\ipykernel_11784\\1653651000.py:18: DtypeWarning: Columns (61,62,94) have mixed types. Specify dtype option on import or set low_memory=False.\n",
      "  df = pd.read_csv(caminho / c.name)\n",
      "C:\\Users\\Gabriel\\AppData\\Local\\Temp\\ipykernel_11784\\1653651000.py:21: FutureWarning: The frame.append method is deprecated and will be removed from pandas in a future version. Use pandas.concat instead.\n",
      "  base = base.append(df)\n"
     ]
    },
    {
     "name": "stdout",
     "output_type": "stream",
     "text": [
      "maio2018.csv\n"
     ]
    },
    {
     "name": "stderr",
     "output_type": "stream",
     "text": [
      "C:\\Users\\Gabriel\\AppData\\Local\\Temp\\ipykernel_11784\\1653651000.py:18: DtypeWarning: Columns (87) have mixed types. Specify dtype option on import or set low_memory=False.\n",
      "  df = pd.read_csv(caminho / c.name)\n",
      "C:\\Users\\Gabriel\\AppData\\Local\\Temp\\ipykernel_11784\\1653651000.py:21: FutureWarning: The frame.append method is deprecated and will be removed from pandas in a future version. Use pandas.concat instead.\n",
      "  base = base.append(df)\n"
     ]
    },
    {
     "name": "stdout",
     "output_type": "stream",
     "text": [
      "maio2019.csv\n"
     ]
    },
    {
     "name": "stderr",
     "output_type": "stream",
     "text": [
      "C:\\Users\\Gabriel\\AppData\\Local\\Temp\\ipykernel_11784\\1653651000.py:18: DtypeWarning: Columns (61,62,94) have mixed types. Specify dtype option on import or set low_memory=False.\n",
      "  df = pd.read_csv(caminho / c.name)\n",
      "C:\\Users\\Gabriel\\AppData\\Local\\Temp\\ipykernel_11784\\1653651000.py:21: FutureWarning: The frame.append method is deprecated and will be removed from pandas in a future version. Use pandas.concat instead.\n",
      "  base = base.append(df)\n"
     ]
    },
    {
     "name": "stdout",
     "output_type": "stream",
     "text": [
      "maio2020.csv\n"
     ]
    },
    {
     "name": "stderr",
     "output_type": "stream",
     "text": [
      "C:\\Users\\Gabriel\\AppData\\Local\\Temp\\ipykernel_11784\\1653651000.py:18: DtypeWarning: Columns (61,62,94) have mixed types. Specify dtype option on import or set low_memory=False.\n",
      "  df = pd.read_csv(caminho / c.name)\n",
      "C:\\Users\\Gabriel\\AppData\\Local\\Temp\\ipykernel_11784\\1653651000.py:21: FutureWarning: The frame.append method is deprecated and will be removed from pandas in a future version. Use pandas.concat instead.\n",
      "  base = base.append(df)\n"
     ]
    },
    {
     "name": "stdout",
     "output_type": "stream",
     "text": [
      "maro2019.csv\n"
     ]
    },
    {
     "name": "stderr",
     "output_type": "stream",
     "text": [
      "C:\\Users\\Gabriel\\AppData\\Local\\Temp\\ipykernel_11784\\1653651000.py:18: DtypeWarning: Columns (61,62,94) have mixed types. Specify dtype option on import or set low_memory=False.\n",
      "  df = pd.read_csv(caminho / c.name)\n",
      "C:\\Users\\Gabriel\\AppData\\Local\\Temp\\ipykernel_11784\\1653651000.py:21: FutureWarning: The frame.append method is deprecated and will be removed from pandas in a future version. Use pandas.concat instead.\n",
      "  base = base.append(df)\n"
     ]
    },
    {
     "name": "stdout",
     "output_type": "stream",
     "text": [
      "maro2020.csv\n"
     ]
    },
    {
     "name": "stderr",
     "output_type": "stream",
     "text": [
      "C:\\Users\\Gabriel\\AppData\\Local\\Temp\\ipykernel_11784\\1653651000.py:18: DtypeWarning: Columns (61,62,94) have mixed types. Specify dtype option on import or set low_memory=False.\n",
      "  df = pd.read_csv(caminho / c.name)\n",
      "C:\\Users\\Gabriel\\AppData\\Local\\Temp\\ipykernel_11784\\1653651000.py:21: FutureWarning: The frame.append method is deprecated and will be removed from pandas in a future version. Use pandas.concat instead.\n",
      "  base = base.append(df)\n"
     ]
    },
    {
     "name": "stdout",
     "output_type": "stream",
     "text": [
      "novembro2019.csv\n"
     ]
    },
    {
     "name": "stderr",
     "output_type": "stream",
     "text": [
      "C:\\Users\\Gabriel\\AppData\\Local\\Temp\\ipykernel_11784\\1653651000.py:18: DtypeWarning: Columns (61,62,94) have mixed types. Specify dtype option on import or set low_memory=False.\n",
      "  df = pd.read_csv(caminho / c.name)\n",
      "C:\\Users\\Gabriel\\AppData\\Local\\Temp\\ipykernel_11784\\1653651000.py:21: FutureWarning: The frame.append method is deprecated and will be removed from pandas in a future version. Use pandas.concat instead.\n",
      "  base = base.append(df)\n"
     ]
    },
    {
     "name": "stdout",
     "output_type": "stream",
     "text": [
      "novrmbro2018.csv\n"
     ]
    },
    {
     "name": "stderr",
     "output_type": "stream",
     "text": [
      "C:\\Users\\Gabriel\\AppData\\Local\\Temp\\ipykernel_11784\\1653651000.py:18: DtypeWarning: Columns (87) have mixed types. Specify dtype option on import or set low_memory=False.\n",
      "  df = pd.read_csv(caminho / c.name)\n",
      "C:\\Users\\Gabriel\\AppData\\Local\\Temp\\ipykernel_11784\\1653651000.py:21: FutureWarning: The frame.append method is deprecated and will be removed from pandas in a future version. Use pandas.concat instead.\n",
      "  base = base.append(df)\n"
     ]
    },
    {
     "name": "stdout",
     "output_type": "stream",
     "text": [
      "outubro2018.csv\n"
     ]
    },
    {
     "name": "stderr",
     "output_type": "stream",
     "text": [
      "C:\\Users\\Gabriel\\AppData\\Local\\Temp\\ipykernel_11784\\1653651000.py:18: DtypeWarning: Columns (87) have mixed types. Specify dtype option on import or set low_memory=False.\n",
      "  df = pd.read_csv(caminho / c.name)\n",
      "C:\\Users\\Gabriel\\AppData\\Local\\Temp\\ipykernel_11784\\1653651000.py:21: FutureWarning: The frame.append method is deprecated and will be removed from pandas in a future version. Use pandas.concat instead.\n",
      "  base = base.append(df)\n"
     ]
    },
    {
     "name": "stdout",
     "output_type": "stream",
     "text": [
      "outubro2019.csv\n"
     ]
    },
    {
     "name": "stderr",
     "output_type": "stream",
     "text": [
      "C:\\Users\\Gabriel\\AppData\\Local\\Temp\\ipykernel_11784\\1653651000.py:18: DtypeWarning: Columns (61,62,94) have mixed types. Specify dtype option on import or set low_memory=False.\n",
      "  df = pd.read_csv(caminho / c.name)\n",
      "C:\\Users\\Gabriel\\AppData\\Local\\Temp\\ipykernel_11784\\1653651000.py:21: FutureWarning: The frame.append method is deprecated and will be removed from pandas in a future version. Use pandas.concat instead.\n",
      "  base = base.append(df)\n"
     ]
    },
    {
     "name": "stdout",
     "output_type": "stream",
     "text": [
      "setembro2018.csv\n"
     ]
    },
    {
     "name": "stderr",
     "output_type": "stream",
     "text": [
      "C:\\Users\\Gabriel\\AppData\\Local\\Temp\\ipykernel_11784\\1653651000.py:18: DtypeWarning: Columns (87) have mixed types. Specify dtype option on import or set low_memory=False.\n",
      "  df = pd.read_csv(caminho / c.name)\n",
      "C:\\Users\\Gabriel\\AppData\\Local\\Temp\\ipykernel_11784\\1653651000.py:21: FutureWarning: The frame.append method is deprecated and will be removed from pandas in a future version. Use pandas.concat instead.\n",
      "  base = base.append(df)\n"
     ]
    },
    {
     "name": "stdout",
     "output_type": "stream",
     "text": [
      "setembro2019.csv\n"
     ]
    },
    {
     "name": "stderr",
     "output_type": "stream",
     "text": [
      "C:\\Users\\Gabriel\\AppData\\Local\\Temp\\ipykernel_11784\\1653651000.py:18: DtypeWarning: Columns (61,62,94) have mixed types. Specify dtype option on import or set low_memory=False.\n",
      "  df = pd.read_csv(caminho / c.name)\n",
      "C:\\Users\\Gabriel\\AppData\\Local\\Temp\\ipykernel_11784\\1653651000.py:21: FutureWarning: The frame.append method is deprecated and will be removed from pandas in a future version. Use pandas.concat instead.\n",
      "  base = base.append(df)\n"
     ]
    }
   ],
   "source": [
    "# criar um dicionario para inserir os meses e anos \n",
    "meses = {'jan': 1, 'fev' : 2, 'mar' : 3,'abr' : 4,'mai' : 5,'jun' : 6,'jul' : 7,'ago': 8,'set': 9, 'out': 10, 'nov': 11, 'dez':\n",
    "         \n",
    "         12}\n",
    "caminho = pathlib.Path('dataset') # pasta onde esta o arquivo \n",
    "\n",
    "base = pd.DataFrame()\n",
    "\n",
    "for c in caminho.iterdir():# Lista com todos arquivos usando o iterdir da biblioteca pathlib!!!\n",
    "    \n",
    "    nome_meses = c.name[:3] # Irá percorrer a pasta com os arquivos e pegar os 3 primeiros caracteres\n",
    "    mes = meses[nome_meses] # pegar o mês e colocar em uma coluna \n",
    "    \n",
    "    ano = c.name[-8:-4] # pegar o ano e colocar em uma coluna \n",
    "\n",
    "    print(c.name)\n",
    "    \n",
    "    df = pd.read_csv(caminho / c.name)\n",
    "    df['mes'] = mes #inserir mes no data frame \n",
    "    df['ano'] = ano # inserir ano no data frame\n",
    "    base = base.append(df)\n",
    "    \n"
   ]
  },
  {
   "cell_type": "markdown",
   "id": "9bd9bff6",
   "metadata": {
    "heading_collapsed": true
   },
   "source": [
    "# Exibir os dados para uma análise superficial   (display  e info)"
   ]
  },
  {
   "cell_type": "code",
   "execution_count": 3,
   "id": "1872a555",
   "metadata": {
    "hidden": true
   },
   "outputs": [
    {
     "data": {
      "text/html": [
       "<div>\n",
       "<style scoped>\n",
       "    .dataframe tbody tr th:only-of-type {\n",
       "        vertical-align: middle;\n",
       "    }\n",
       "\n",
       "    .dataframe tbody tr th {\n",
       "        vertical-align: top;\n",
       "    }\n",
       "\n",
       "    .dataframe thead th {\n",
       "        text-align: right;\n",
       "    }\n",
       "</style>\n",
       "<table border=\"1\" class=\"dataframe\">\n",
       "  <thead>\n",
       "    <tr style=\"text-align: right;\">\n",
       "      <th></th>\n",
       "      <th>id</th>\n",
       "      <th>listing_url</th>\n",
       "      <th>scrape_id</th>\n",
       "      <th>last_scraped</th>\n",
       "      <th>name</th>\n",
       "      <th>summary</th>\n",
       "      <th>space</th>\n",
       "      <th>description</th>\n",
       "      <th>experiences_offered</th>\n",
       "      <th>neighborhood_overview</th>\n",
       "      <th>...</th>\n",
       "      <th>minimum_minimum_nights</th>\n",
       "      <th>maximum_minimum_nights</th>\n",
       "      <th>minimum_maximum_nights</th>\n",
       "      <th>maximum_maximum_nights</th>\n",
       "      <th>minimum_nights_avg_ntm</th>\n",
       "      <th>maximum_nights_avg_ntm</th>\n",
       "      <th>number_of_reviews_ltm</th>\n",
       "      <th>calculated_host_listings_count_entire_homes</th>\n",
       "      <th>calculated_host_listings_count_private_rooms</th>\n",
       "      <th>calculated_host_listings_count_shared_rooms</th>\n",
       "    </tr>\n",
       "  </thead>\n",
       "  <tbody>\n",
       "    <tr>\n",
       "      <th>0</th>\n",
       "      <td>14063</td>\n",
       "      <td>https://www.airbnb.com/rooms/14063</td>\n",
       "      <td>20180414160018</td>\n",
       "      <td>2018-04-14</td>\n",
       "      <td>Living in a Postcard</td>\n",
       "      <td>Besides the most iconic's view, our apartment ...</td>\n",
       "      <td>NaN</td>\n",
       "      <td>Besides the most iconic's view, our apartment ...</td>\n",
       "      <td>none</td>\n",
       "      <td>Best and favorite neighborhood of Rio. Perfect...</td>\n",
       "      <td>...</td>\n",
       "      <td>NaN</td>\n",
       "      <td>NaN</td>\n",
       "      <td>NaN</td>\n",
       "      <td>NaN</td>\n",
       "      <td>NaN</td>\n",
       "      <td>NaN</td>\n",
       "      <td>NaN</td>\n",
       "      <td>NaN</td>\n",
       "      <td>NaN</td>\n",
       "      <td>NaN</td>\n",
       "    </tr>\n",
       "    <tr>\n",
       "      <th>1</th>\n",
       "      <td>17878</td>\n",
       "      <td>https://www.airbnb.com/rooms/17878</td>\n",
       "      <td>20180414160018</td>\n",
       "      <td>2018-04-14</td>\n",
       "      <td>Very Nice 2Br - Copacabana - WiFi</td>\n",
       "      <td>Please note that special rates apply for New Y...</td>\n",
       "      <td>- large balcony which looks out on pedestrian ...</td>\n",
       "      <td>Please note that special rates apply for New Y...</td>\n",
       "      <td>none</td>\n",
       "      <td>This is the best spot in Rio. Everything happe...</td>\n",
       "      <td>...</td>\n",
       "      <td>NaN</td>\n",
       "      <td>NaN</td>\n",
       "      <td>NaN</td>\n",
       "      <td>NaN</td>\n",
       "      <td>NaN</td>\n",
       "      <td>NaN</td>\n",
       "      <td>NaN</td>\n",
       "      <td>NaN</td>\n",
       "      <td>NaN</td>\n",
       "      <td>NaN</td>\n",
       "    </tr>\n",
       "    <tr>\n",
       "      <th>2</th>\n",
       "      <td>24480</td>\n",
       "      <td>https://www.airbnb.com/rooms/24480</td>\n",
       "      <td>20180414160018</td>\n",
       "      <td>2018-04-14</td>\n",
       "      <td>Nice and cozy near Ipanema Beach</td>\n",
       "      <td>My studio is located in the best  of Ipanema. ...</td>\n",
       "      <td>The studio is located at Vinicius de Moraes St...</td>\n",
       "      <td>My studio is located in the best  of Ipanema. ...</td>\n",
       "      <td>none</td>\n",
       "      <td>The beach, the lagoon, Ipanema is a great loca...</td>\n",
       "      <td>...</td>\n",
       "      <td>NaN</td>\n",
       "      <td>NaN</td>\n",
       "      <td>NaN</td>\n",
       "      <td>NaN</td>\n",
       "      <td>NaN</td>\n",
       "      <td>NaN</td>\n",
       "      <td>NaN</td>\n",
       "      <td>NaN</td>\n",
       "      <td>NaN</td>\n",
       "      <td>NaN</td>\n",
       "    </tr>\n",
       "    <tr>\n",
       "      <th>3</th>\n",
       "      <td>25026</td>\n",
       "      <td>https://www.airbnb.com/rooms/25026</td>\n",
       "      <td>20180414160018</td>\n",
       "      <td>2018-04-14</td>\n",
       "      <td>Beautiful Modern Decorated Studio in Copa</td>\n",
       "      <td>Our apartment is a little gem, everyone loves ...</td>\n",
       "      <td>This newly renovated studio (last renovations ...</td>\n",
       "      <td>Our apartment is a little gem, everyone loves ...</td>\n",
       "      <td>none</td>\n",
       "      <td>Copacabana is a lively neighborhood and the ap...</td>\n",
       "      <td>...</td>\n",
       "      <td>NaN</td>\n",
       "      <td>NaN</td>\n",
       "      <td>NaN</td>\n",
       "      <td>NaN</td>\n",
       "      <td>NaN</td>\n",
       "      <td>NaN</td>\n",
       "      <td>NaN</td>\n",
       "      <td>NaN</td>\n",
       "      <td>NaN</td>\n",
       "      <td>NaN</td>\n",
       "    </tr>\n",
       "    <tr>\n",
       "      <th>4</th>\n",
       "      <td>31560</td>\n",
       "      <td>https://www.airbnb.com/rooms/31560</td>\n",
       "      <td>20180414160018</td>\n",
       "      <td>2018-04-14</td>\n",
       "      <td>NICE &amp; COZY 1BDR - IPANEMA BEACH</td>\n",
       "      <td>This nice and clean 1 bedroom apartment is loc...</td>\n",
       "      <td>This nice and clean 1 bedroom apartment is loc...</td>\n",
       "      <td>This nice and clean 1 bedroom apartment is loc...</td>\n",
       "      <td>none</td>\n",
       "      <td>Die Nachbarschaft von Ipanema ist super lebend...</td>\n",
       "      <td>...</td>\n",
       "      <td>NaN</td>\n",
       "      <td>NaN</td>\n",
       "      <td>NaN</td>\n",
       "      <td>NaN</td>\n",
       "      <td>NaN</td>\n",
       "      <td>NaN</td>\n",
       "      <td>NaN</td>\n",
       "      <td>NaN</td>\n",
       "      <td>NaN</td>\n",
       "      <td>NaN</td>\n",
       "    </tr>\n",
       "    <tr>\n",
       "      <th>...</th>\n",
       "      <td>...</td>\n",
       "      <td>...</td>\n",
       "      <td>...</td>\n",
       "      <td>...</td>\n",
       "      <td>...</td>\n",
       "      <td>...</td>\n",
       "      <td>...</td>\n",
       "      <td>...</td>\n",
       "      <td>...</td>\n",
       "      <td>...</td>\n",
       "      <td>...</td>\n",
       "      <td>...</td>\n",
       "      <td>...</td>\n",
       "      <td>...</td>\n",
       "      <td>...</td>\n",
       "      <td>...</td>\n",
       "      <td>...</td>\n",
       "      <td>...</td>\n",
       "      <td>...</td>\n",
       "      <td>...</td>\n",
       "      <td>...</td>\n",
       "    </tr>\n",
       "    <tr>\n",
       "      <th>34324</th>\n",
       "      <td>38844730</td>\n",
       "      <td>https://www.airbnb.com/rooms/38844730</td>\n",
       "      <td>20190923212307</td>\n",
       "      <td>2019-09-24</td>\n",
       "      <td>TRANSAMERICA BARRA DA TIJUCA R IV</td>\n",
       "      <td>Em estilo contemporâneo, o Transamerica Prime ...</td>\n",
       "      <td>NaN</td>\n",
       "      <td>Em estilo contemporâneo, o Transamerica Prime ...</td>\n",
       "      <td>none</td>\n",
       "      <td>NaN</td>\n",
       "      <td>...</td>\n",
       "      <td>1.0</td>\n",
       "      <td>1.0</td>\n",
       "      <td>1125.0</td>\n",
       "      <td>1125.0</td>\n",
       "      <td>1.0</td>\n",
       "      <td>1125.0</td>\n",
       "      <td>0.0</td>\n",
       "      <td>15.0</td>\n",
       "      <td>0.0</td>\n",
       "      <td>0.0</td>\n",
       "    </tr>\n",
       "    <tr>\n",
       "      <th>34325</th>\n",
       "      <td>38846408</td>\n",
       "      <td>https://www.airbnb.com/rooms/38846408</td>\n",
       "      <td>20190923212307</td>\n",
       "      <td>2019-09-24</td>\n",
       "      <td>Alugo para o Rock in Rio</td>\n",
       "      <td>Confortável apartamento, 2 quartos , sendo 1 s...</td>\n",
       "      <td>O apartamento estará com mobília completa disp...</td>\n",
       "      <td>Confortável apartamento, 2 quartos , sendo 1 s...</td>\n",
       "      <td>none</td>\n",
       "      <td>Muito próximo ao Parque Olímpico, local do eve...</td>\n",
       "      <td>...</td>\n",
       "      <td>2.0</td>\n",
       "      <td>2.0</td>\n",
       "      <td>1125.0</td>\n",
       "      <td>1125.0</td>\n",
       "      <td>2.0</td>\n",
       "      <td>1125.0</td>\n",
       "      <td>0.0</td>\n",
       "      <td>1.0</td>\n",
       "      <td>0.0</td>\n",
       "      <td>0.0</td>\n",
       "    </tr>\n",
       "    <tr>\n",
       "      <th>34326</th>\n",
       "      <td>38846703</td>\n",
       "      <td>https://www.airbnb.com/rooms/38846703</td>\n",
       "      <td>20190923212307</td>\n",
       "      <td>2019-09-24</td>\n",
       "      <td>Apt COMPLETO em COPACABANA c/TOTAL SEGURANÇA</td>\n",
       "      <td>Apartamento quarto e sala COMPLETO para curtas...</td>\n",
       "      <td>Espaço ideal para até 5 pessoas. Cama de casal...</td>\n",
       "      <td>Apartamento quarto e sala COMPLETO para curtas...</td>\n",
       "      <td>none</td>\n",
       "      <td>NaN</td>\n",
       "      <td>...</td>\n",
       "      <td>3.0</td>\n",
       "      <td>3.0</td>\n",
       "      <td>1125.0</td>\n",
       "      <td>1125.0</td>\n",
       "      <td>3.0</td>\n",
       "      <td>1125.0</td>\n",
       "      <td>0.0</td>\n",
       "      <td>23.0</td>\n",
       "      <td>6.0</td>\n",
       "      <td>0.0</td>\n",
       "    </tr>\n",
       "    <tr>\n",
       "      <th>34327</th>\n",
       "      <td>38847050</td>\n",
       "      <td>https://www.airbnb.com/rooms/38847050</td>\n",
       "      <td>20190923212307</td>\n",
       "      <td>2019-09-24</td>\n",
       "      <td>Cobertura Cinematografica</td>\n",
       "      <td>Cobertura alto nivel</td>\n",
       "      <td>NaN</td>\n",
       "      <td>Cobertura alto nivel</td>\n",
       "      <td>none</td>\n",
       "      <td>NaN</td>\n",
       "      <td>...</td>\n",
       "      <td>1.0</td>\n",
       "      <td>1.0</td>\n",
       "      <td>1125.0</td>\n",
       "      <td>1125.0</td>\n",
       "      <td>1.0</td>\n",
       "      <td>1125.0</td>\n",
       "      <td>0.0</td>\n",
       "      <td>1.0</td>\n",
       "      <td>0.0</td>\n",
       "      <td>0.0</td>\n",
       "    </tr>\n",
       "    <tr>\n",
       "      <th>34328</th>\n",
       "      <td>38847655</td>\n",
       "      <td>https://www.airbnb.com/rooms/38847655</td>\n",
       "      <td>20190923212307</td>\n",
       "      <td>2019-09-24</td>\n",
       "      <td>Quarto em cobertura em frente à praia III</td>\n",
       "      <td>Quarto em cobertura quadriplex com vista lindí...</td>\n",
       "      <td>NaN</td>\n",
       "      <td>Quarto em cobertura quadriplex com vista lindí...</td>\n",
       "      <td>none</td>\n",
       "      <td>NaN</td>\n",
       "      <td>...</td>\n",
       "      <td>1.0</td>\n",
       "      <td>1.0</td>\n",
       "      <td>30.0</td>\n",
       "      <td>30.0</td>\n",
       "      <td>1.0</td>\n",
       "      <td>30.0</td>\n",
       "      <td>0.0</td>\n",
       "      <td>0.0</td>\n",
       "      <td>4.0</td>\n",
       "      <td>0.0</td>\n",
       "    </tr>\n",
       "  </tbody>\n",
       "</table>\n",
       "<p>902210 rows × 108 columns</p>\n",
       "</div>"
      ],
      "text/plain": [
       "             id                            listing_url       scrape_id  \\\n",
       "0         14063     https://www.airbnb.com/rooms/14063  20180414160018   \n",
       "1         17878     https://www.airbnb.com/rooms/17878  20180414160018   \n",
       "2         24480     https://www.airbnb.com/rooms/24480  20180414160018   \n",
       "3         25026     https://www.airbnb.com/rooms/25026  20180414160018   \n",
       "4         31560     https://www.airbnb.com/rooms/31560  20180414160018   \n",
       "...         ...                                    ...             ...   \n",
       "34324  38844730  https://www.airbnb.com/rooms/38844730  20190923212307   \n",
       "34325  38846408  https://www.airbnb.com/rooms/38846408  20190923212307   \n",
       "34326  38846703  https://www.airbnb.com/rooms/38846703  20190923212307   \n",
       "34327  38847050  https://www.airbnb.com/rooms/38847050  20190923212307   \n",
       "34328  38847655  https://www.airbnb.com/rooms/38847655  20190923212307   \n",
       "\n",
       "      last_scraped                                          name  \\\n",
       "0       2018-04-14                          Living in a Postcard   \n",
       "1       2018-04-14             Very Nice 2Br - Copacabana - WiFi   \n",
       "2       2018-04-14              Nice and cozy near Ipanema Beach   \n",
       "3       2018-04-14     Beautiful Modern Decorated Studio in Copa   \n",
       "4       2018-04-14              NICE & COZY 1BDR - IPANEMA BEACH   \n",
       "...            ...                                           ...   \n",
       "34324   2019-09-24             TRANSAMERICA BARRA DA TIJUCA R IV   \n",
       "34325   2019-09-24                      Alugo para o Rock in Rio   \n",
       "34326   2019-09-24  Apt COMPLETO em COPACABANA c/TOTAL SEGURANÇA   \n",
       "34327   2019-09-24                     Cobertura Cinematografica   \n",
       "34328   2019-09-24     Quarto em cobertura em frente à praia III   \n",
       "\n",
       "                                                 summary  \\\n",
       "0      Besides the most iconic's view, our apartment ...   \n",
       "1      Please note that special rates apply for New Y...   \n",
       "2      My studio is located in the best  of Ipanema. ...   \n",
       "3      Our apartment is a little gem, everyone loves ...   \n",
       "4      This nice and clean 1 bedroom apartment is loc...   \n",
       "...                                                  ...   \n",
       "34324  Em estilo contemporâneo, o Transamerica Prime ...   \n",
       "34325  Confortável apartamento, 2 quartos , sendo 1 s...   \n",
       "34326  Apartamento quarto e sala COMPLETO para curtas...   \n",
       "34327                               Cobertura alto nivel   \n",
       "34328  Quarto em cobertura quadriplex com vista lindí...   \n",
       "\n",
       "                                                   space  \\\n",
       "0                                                    NaN   \n",
       "1      - large balcony which looks out on pedestrian ...   \n",
       "2      The studio is located at Vinicius de Moraes St...   \n",
       "3      This newly renovated studio (last renovations ...   \n",
       "4      This nice and clean 1 bedroom apartment is loc...   \n",
       "...                                                  ...   \n",
       "34324                                                NaN   \n",
       "34325  O apartamento estará com mobília completa disp...   \n",
       "34326  Espaço ideal para até 5 pessoas. Cama de casal...   \n",
       "34327                                                NaN   \n",
       "34328                                                NaN   \n",
       "\n",
       "                                             description experiences_offered  \\\n",
       "0      Besides the most iconic's view, our apartment ...                none   \n",
       "1      Please note that special rates apply for New Y...                none   \n",
       "2      My studio is located in the best  of Ipanema. ...                none   \n",
       "3      Our apartment is a little gem, everyone loves ...                none   \n",
       "4      This nice and clean 1 bedroom apartment is loc...                none   \n",
       "...                                                  ...                 ...   \n",
       "34324  Em estilo contemporâneo, o Transamerica Prime ...                none   \n",
       "34325  Confortável apartamento, 2 quartos , sendo 1 s...                none   \n",
       "34326  Apartamento quarto e sala COMPLETO para curtas...                none   \n",
       "34327                               Cobertura alto nivel                none   \n",
       "34328  Quarto em cobertura quadriplex com vista lindí...                none   \n",
       "\n",
       "                                   neighborhood_overview  ...  \\\n",
       "0      Best and favorite neighborhood of Rio. Perfect...  ...   \n",
       "1      This is the best spot in Rio. Everything happe...  ...   \n",
       "2      The beach, the lagoon, Ipanema is a great loca...  ...   \n",
       "3      Copacabana is a lively neighborhood and the ap...  ...   \n",
       "4      Die Nachbarschaft von Ipanema ist super lebend...  ...   \n",
       "...                                                  ...  ...   \n",
       "34324                                                NaN  ...   \n",
       "34325  Muito próximo ao Parque Olímpico, local do eve...  ...   \n",
       "34326                                                NaN  ...   \n",
       "34327                                                NaN  ...   \n",
       "34328                                                NaN  ...   \n",
       "\n",
       "      minimum_minimum_nights maximum_minimum_nights minimum_maximum_nights  \\\n",
       "0                        NaN                    NaN                    NaN   \n",
       "1                        NaN                    NaN                    NaN   \n",
       "2                        NaN                    NaN                    NaN   \n",
       "3                        NaN                    NaN                    NaN   \n",
       "4                        NaN                    NaN                    NaN   \n",
       "...                      ...                    ...                    ...   \n",
       "34324                    1.0                    1.0                 1125.0   \n",
       "34325                    2.0                    2.0                 1125.0   \n",
       "34326                    3.0                    3.0                 1125.0   \n",
       "34327                    1.0                    1.0                 1125.0   \n",
       "34328                    1.0                    1.0                   30.0   \n",
       "\n",
       "      maximum_maximum_nights minimum_nights_avg_ntm  maximum_nights_avg_ntm  \\\n",
       "0                        NaN                    NaN                     NaN   \n",
       "1                        NaN                    NaN                     NaN   \n",
       "2                        NaN                    NaN                     NaN   \n",
       "3                        NaN                    NaN                     NaN   \n",
       "4                        NaN                    NaN                     NaN   \n",
       "...                      ...                    ...                     ...   \n",
       "34324                 1125.0                    1.0                  1125.0   \n",
       "34325                 1125.0                    2.0                  1125.0   \n",
       "34326                 1125.0                    3.0                  1125.0   \n",
       "34327                 1125.0                    1.0                  1125.0   \n",
       "34328                   30.0                    1.0                    30.0   \n",
       "\n",
       "       number_of_reviews_ltm calculated_host_listings_count_entire_homes  \\\n",
       "0                        NaN                                         NaN   \n",
       "1                        NaN                                         NaN   \n",
       "2                        NaN                                         NaN   \n",
       "3                        NaN                                         NaN   \n",
       "4                        NaN                                         NaN   \n",
       "...                      ...                                         ...   \n",
       "34324                    0.0                                        15.0   \n",
       "34325                    0.0                                         1.0   \n",
       "34326                    0.0                                        23.0   \n",
       "34327                    0.0                                         1.0   \n",
       "34328                    0.0                                         0.0   \n",
       "\n",
       "       calculated_host_listings_count_private_rooms  \\\n",
       "0                                               NaN   \n",
       "1                                               NaN   \n",
       "2                                               NaN   \n",
       "3                                               NaN   \n",
       "4                                               NaN   \n",
       "...                                             ...   \n",
       "34324                                           0.0   \n",
       "34325                                           0.0   \n",
       "34326                                           6.0   \n",
       "34327                                           0.0   \n",
       "34328                                           4.0   \n",
       "\n",
       "       calculated_host_listings_count_shared_rooms  \n",
       "0                                              NaN  \n",
       "1                                              NaN  \n",
       "2                                              NaN  \n",
       "3                                              NaN  \n",
       "4                                              NaN  \n",
       "...                                            ...  \n",
       "34324                                          0.0  \n",
       "34325                                          0.0  \n",
       "34326                                          0.0  \n",
       "34327                                          0.0  \n",
       "34328                                          0.0  \n",
       "\n",
       "[902210 rows x 108 columns]"
      ]
     },
     "metadata": {},
     "output_type": "display_data"
    }
   ],
   "source": [
    "display(base)"
   ]
  },
  {
   "cell_type": "code",
   "execution_count": 4,
   "id": "facdbd68",
   "metadata": {
    "hidden": true
   },
   "outputs": [
    {
     "name": "stdout",
     "output_type": "stream",
     "text": [
      "<class 'pandas.core.frame.DataFrame'>\n",
      "Int64Index: 902210 entries, 0 to 34328\n",
      "Columns: 108 entries, id to calculated_host_listings_count_shared_rooms\n",
      "dtypes: float64(31), int64(14), object(63)\n",
      "memory usage: 750.3+ MB\n"
     ]
    }
   ],
   "source": [
    "\n",
    "base.info()"
   ]
  },
  {
   "cell_type": "markdown",
   "id": "e5036c70",
   "metadata": {
    "heading_collapsed": true
   },
   "source": [
    "# Tratamento dos dados \n",
    "- Eliminar colunas que não serão uteis \n",
    "- Tratar dados nulos\n",
    "- Tipos de dados (int, float, str, etc)"
   ]
  },
  {
   "cell_type": "code",
   "execution_count": 5,
   "id": "eba8c884",
   "metadata": {
    "hidden": true,
    "scrolled": true
   },
   "outputs": [],
   "source": [
    "# Foi gereado um arquivo excel com todas as colunas para conseguir ter uma visão do  \n",
    "# documento e se a  principio alguma coluna não teria necessidade de estar na analise \n",
    "base.head(500).to_csv('primeiros_registros.csv',sep = ';')"
   ]
  },
  {
   "cell_type": "code",
   "execution_count": 6,
   "id": "294fffa2",
   "metadata": {
    "hidden": true,
    "scrolled": false
   },
   "outputs": [
    {
     "data": {
      "text/html": [
       "<div>\n",
       "<style scoped>\n",
       "    .dataframe tbody tr th:only-of-type {\n",
       "        vertical-align: middle;\n",
       "    }\n",
       "\n",
       "    .dataframe tbody tr th {\n",
       "        vertical-align: top;\n",
       "    }\n",
       "\n",
       "    .dataframe thead th {\n",
       "        text-align: right;\n",
       "    }\n",
       "</style>\n",
       "<table border=\"1\" class=\"dataframe\">\n",
       "  <thead>\n",
       "    <tr style=\"text-align: right;\">\n",
       "      <th></th>\n",
       "      <th>host_identity_verified</th>\n",
       "      <th>neighbourhood</th>\n",
       "      <th>latitude</th>\n",
       "      <th>longitude</th>\n",
       "      <th>property_type</th>\n",
       "      <th>room_type</th>\n",
       "      <th>accommodates</th>\n",
       "      <th>bathrooms</th>\n",
       "      <th>bedrooms</th>\n",
       "      <th>beds</th>\n",
       "      <th>...</th>\n",
       "      <th>review_scores_cleanliness</th>\n",
       "      <th>review_scores_checkin</th>\n",
       "      <th>review_scores_communication</th>\n",
       "      <th>review_scores_location</th>\n",
       "      <th>review_scores_value</th>\n",
       "      <th>instant_bookable</th>\n",
       "      <th>is_business_travel_ready</th>\n",
       "      <th>cancellation_policy</th>\n",
       "      <th>mes</th>\n",
       "      <th>ano</th>\n",
       "    </tr>\n",
       "  </thead>\n",
       "  <tbody>\n",
       "    <tr>\n",
       "      <th>0</th>\n",
       "      <td>t</td>\n",
       "      <td>Botafogo</td>\n",
       "      <td>-22.946854</td>\n",
       "      <td>-43.182737</td>\n",
       "      <td>Apartment</td>\n",
       "      <td>Entire home/apt</td>\n",
       "      <td>4</td>\n",
       "      <td>1.0</td>\n",
       "      <td>0.0</td>\n",
       "      <td>2.0</td>\n",
       "      <td>...</td>\n",
       "      <td>9.0</td>\n",
       "      <td>9.0</td>\n",
       "      <td>9.0</td>\n",
       "      <td>9.0</td>\n",
       "      <td>9.0</td>\n",
       "      <td>f</td>\n",
       "      <td>f</td>\n",
       "      <td>strict_14_with_grace_period</td>\n",
       "      <td>4</td>\n",
       "      <td>2018</td>\n",
       "    </tr>\n",
       "    <tr>\n",
       "      <th>1</th>\n",
       "      <td>f</td>\n",
       "      <td>Copacabana</td>\n",
       "      <td>-22.965919</td>\n",
       "      <td>-43.178962</td>\n",
       "      <td>Condominium</td>\n",
       "      <td>Entire home/apt</td>\n",
       "      <td>5</td>\n",
       "      <td>1.0</td>\n",
       "      <td>2.0</td>\n",
       "      <td>2.0</td>\n",
       "      <td>...</td>\n",
       "      <td>9.0</td>\n",
       "      <td>10.0</td>\n",
       "      <td>10.0</td>\n",
       "      <td>9.0</td>\n",
       "      <td>9.0</td>\n",
       "      <td>t</td>\n",
       "      <td>f</td>\n",
       "      <td>strict</td>\n",
       "      <td>4</td>\n",
       "      <td>2018</td>\n",
       "    </tr>\n",
       "    <tr>\n",
       "      <th>2</th>\n",
       "      <td>t</td>\n",
       "      <td>Ipanema</td>\n",
       "      <td>-22.985698</td>\n",
       "      <td>-43.201935</td>\n",
       "      <td>Apartment</td>\n",
       "      <td>Entire home/apt</td>\n",
       "      <td>2</td>\n",
       "      <td>1.0</td>\n",
       "      <td>1.0</td>\n",
       "      <td>1.0</td>\n",
       "      <td>...</td>\n",
       "      <td>10.0</td>\n",
       "      <td>10.0</td>\n",
       "      <td>10.0</td>\n",
       "      <td>10.0</td>\n",
       "      <td>9.0</td>\n",
       "      <td>f</td>\n",
       "      <td>f</td>\n",
       "      <td>strict</td>\n",
       "      <td>4</td>\n",
       "      <td>2018</td>\n",
       "    </tr>\n",
       "    <tr>\n",
       "      <th>3</th>\n",
       "      <td>t</td>\n",
       "      <td>Copacabana</td>\n",
       "      <td>-22.977117</td>\n",
       "      <td>-43.190454</td>\n",
       "      <td>Apartment</td>\n",
       "      <td>Entire home/apt</td>\n",
       "      <td>3</td>\n",
       "      <td>1.0</td>\n",
       "      <td>1.0</td>\n",
       "      <td>2.0</td>\n",
       "      <td>...</td>\n",
       "      <td>10.0</td>\n",
       "      <td>10.0</td>\n",
       "      <td>10.0</td>\n",
       "      <td>10.0</td>\n",
       "      <td>9.0</td>\n",
       "      <td>f</td>\n",
       "      <td>f</td>\n",
       "      <td>strict</td>\n",
       "      <td>4</td>\n",
       "      <td>2018</td>\n",
       "    </tr>\n",
       "    <tr>\n",
       "      <th>4</th>\n",
       "      <td>t</td>\n",
       "      <td>Ipanema</td>\n",
       "      <td>-22.983024</td>\n",
       "      <td>-43.214270</td>\n",
       "      <td>Apartment</td>\n",
       "      <td>Entire home/apt</td>\n",
       "      <td>3</td>\n",
       "      <td>1.0</td>\n",
       "      <td>1.0</td>\n",
       "      <td>2.0</td>\n",
       "      <td>...</td>\n",
       "      <td>10.0</td>\n",
       "      <td>10.0</td>\n",
       "      <td>10.0</td>\n",
       "      <td>10.0</td>\n",
       "      <td>9.0</td>\n",
       "      <td>t</td>\n",
       "      <td>f</td>\n",
       "      <td>strict</td>\n",
       "      <td>4</td>\n",
       "      <td>2018</td>\n",
       "    </tr>\n",
       "    <tr>\n",
       "      <th>...</th>\n",
       "      <td>...</td>\n",
       "      <td>...</td>\n",
       "      <td>...</td>\n",
       "      <td>...</td>\n",
       "      <td>...</td>\n",
       "      <td>...</td>\n",
       "      <td>...</td>\n",
       "      <td>...</td>\n",
       "      <td>...</td>\n",
       "      <td>...</td>\n",
       "      <td>...</td>\n",
       "      <td>...</td>\n",
       "      <td>...</td>\n",
       "      <td>...</td>\n",
       "      <td>...</td>\n",
       "      <td>...</td>\n",
       "      <td>...</td>\n",
       "      <td>...</td>\n",
       "      <td>...</td>\n",
       "      <td>...</td>\n",
       "      <td>...</td>\n",
       "    </tr>\n",
       "    <tr>\n",
       "      <th>34324</th>\n",
       "      <td>f</td>\n",
       "      <td>Barra da Tijuca</td>\n",
       "      <td>-23.003180</td>\n",
       "      <td>-43.342840</td>\n",
       "      <td>Apartment</td>\n",
       "      <td>Entire home/apt</td>\n",
       "      <td>4</td>\n",
       "      <td>1.0</td>\n",
       "      <td>0.0</td>\n",
       "      <td>2.0</td>\n",
       "      <td>...</td>\n",
       "      <td>NaN</td>\n",
       "      <td>NaN</td>\n",
       "      <td>NaN</td>\n",
       "      <td>NaN</td>\n",
       "      <td>NaN</td>\n",
       "      <td>f</td>\n",
       "      <td>f</td>\n",
       "      <td>flexible</td>\n",
       "      <td>9</td>\n",
       "      <td>2019</td>\n",
       "    </tr>\n",
       "    <tr>\n",
       "      <th>34325</th>\n",
       "      <td>f</td>\n",
       "      <td>Barra da Tijuca</td>\n",
       "      <td>-22.966640</td>\n",
       "      <td>-43.393450</td>\n",
       "      <td>Apartment</td>\n",
       "      <td>Entire home/apt</td>\n",
       "      <td>4</td>\n",
       "      <td>2.0</td>\n",
       "      <td>2.0</td>\n",
       "      <td>3.0</td>\n",
       "      <td>...</td>\n",
       "      <td>NaN</td>\n",
       "      <td>NaN</td>\n",
       "      <td>NaN</td>\n",
       "      <td>NaN</td>\n",
       "      <td>NaN</td>\n",
       "      <td>f</td>\n",
       "      <td>f</td>\n",
       "      <td>flexible</td>\n",
       "      <td>9</td>\n",
       "      <td>2019</td>\n",
       "    </tr>\n",
       "    <tr>\n",
       "      <th>34326</th>\n",
       "      <td>t</td>\n",
       "      <td>Copacabana</td>\n",
       "      <td>-22.962080</td>\n",
       "      <td>-43.175520</td>\n",
       "      <td>Apartment</td>\n",
       "      <td>Entire home/apt</td>\n",
       "      <td>5</td>\n",
       "      <td>1.0</td>\n",
       "      <td>1.0</td>\n",
       "      <td>2.0</td>\n",
       "      <td>...</td>\n",
       "      <td>NaN</td>\n",
       "      <td>NaN</td>\n",
       "      <td>NaN</td>\n",
       "      <td>NaN</td>\n",
       "      <td>NaN</td>\n",
       "      <td>f</td>\n",
       "      <td>f</td>\n",
       "      <td>strict_14_with_grace_period</td>\n",
       "      <td>9</td>\n",
       "      <td>2019</td>\n",
       "    </tr>\n",
       "    <tr>\n",
       "      <th>34327</th>\n",
       "      <td>t</td>\n",
       "      <td>Barra da Tijuca</td>\n",
       "      <td>-23.003400</td>\n",
       "      <td>-43.341820</td>\n",
       "      <td>Apartment</td>\n",
       "      <td>Entire home/apt</td>\n",
       "      <td>4</td>\n",
       "      <td>1.0</td>\n",
       "      <td>1.0</td>\n",
       "      <td>1.0</td>\n",
       "      <td>...</td>\n",
       "      <td>NaN</td>\n",
       "      <td>NaN</td>\n",
       "      <td>NaN</td>\n",
       "      <td>NaN</td>\n",
       "      <td>NaN</td>\n",
       "      <td>f</td>\n",
       "      <td>f</td>\n",
       "      <td>strict_14_with_grace_period</td>\n",
       "      <td>9</td>\n",
       "      <td>2019</td>\n",
       "    </tr>\n",
       "    <tr>\n",
       "      <th>34328</th>\n",
       "      <td>f</td>\n",
       "      <td>Barra da Tijuca</td>\n",
       "      <td>-23.010560</td>\n",
       "      <td>-43.363350</td>\n",
       "      <td>Apartment</td>\n",
       "      <td>Private room</td>\n",
       "      <td>2</td>\n",
       "      <td>0.0</td>\n",
       "      <td>1.0</td>\n",
       "      <td>1.0</td>\n",
       "      <td>...</td>\n",
       "      <td>NaN</td>\n",
       "      <td>NaN</td>\n",
       "      <td>NaN</td>\n",
       "      <td>NaN</td>\n",
       "      <td>NaN</td>\n",
       "      <td>f</td>\n",
       "      <td>f</td>\n",
       "      <td>strict_14_with_grace_period</td>\n",
       "      <td>9</td>\n",
       "      <td>2019</td>\n",
       "    </tr>\n",
       "  </tbody>\n",
       "</table>\n",
       "<p>902210 rows × 31 columns</p>\n",
       "</div>"
      ],
      "text/plain": [
       "      host_identity_verified    neighbourhood   latitude  longitude  \\\n",
       "0                          t         Botafogo -22.946854 -43.182737   \n",
       "1                          f       Copacabana -22.965919 -43.178962   \n",
       "2                          t          Ipanema -22.985698 -43.201935   \n",
       "3                          t       Copacabana -22.977117 -43.190454   \n",
       "4                          t          Ipanema -22.983024 -43.214270   \n",
       "...                      ...              ...        ...        ...   \n",
       "34324                      f  Barra da Tijuca -23.003180 -43.342840   \n",
       "34325                      f  Barra da Tijuca -22.966640 -43.393450   \n",
       "34326                      t       Copacabana -22.962080 -43.175520   \n",
       "34327                      t  Barra da Tijuca -23.003400 -43.341820   \n",
       "34328                      f  Barra da Tijuca -23.010560 -43.363350   \n",
       "\n",
       "      property_type        room_type  accommodates  bathrooms  bedrooms  beds  \\\n",
       "0         Apartment  Entire home/apt             4        1.0       0.0   2.0   \n",
       "1       Condominium  Entire home/apt             5        1.0       2.0   2.0   \n",
       "2         Apartment  Entire home/apt             2        1.0       1.0   1.0   \n",
       "3         Apartment  Entire home/apt             3        1.0       1.0   2.0   \n",
       "4         Apartment  Entire home/apt             3        1.0       1.0   2.0   \n",
       "...             ...              ...           ...        ...       ...   ...   \n",
       "34324     Apartment  Entire home/apt             4        1.0       0.0   2.0   \n",
       "34325     Apartment  Entire home/apt             4        2.0       2.0   3.0   \n",
       "34326     Apartment  Entire home/apt             5        1.0       1.0   2.0   \n",
       "34327     Apartment  Entire home/apt             4        1.0       1.0   1.0   \n",
       "34328     Apartment     Private room             2        0.0       1.0   1.0   \n",
       "\n",
       "       ... review_scores_cleanliness review_scores_checkin  \\\n",
       "0      ...                       9.0                   9.0   \n",
       "1      ...                       9.0                  10.0   \n",
       "2      ...                      10.0                  10.0   \n",
       "3      ...                      10.0                  10.0   \n",
       "4      ...                      10.0                  10.0   \n",
       "...    ...                       ...                   ...   \n",
       "34324  ...                       NaN                   NaN   \n",
       "34325  ...                       NaN                   NaN   \n",
       "34326  ...                       NaN                   NaN   \n",
       "34327  ...                       NaN                   NaN   \n",
       "34328  ...                       NaN                   NaN   \n",
       "\n",
       "      review_scores_communication review_scores_location  review_scores_value  \\\n",
       "0                             9.0                    9.0                  9.0   \n",
       "1                            10.0                    9.0                  9.0   \n",
       "2                            10.0                   10.0                  9.0   \n",
       "3                            10.0                   10.0                  9.0   \n",
       "4                            10.0                   10.0                  9.0   \n",
       "...                           ...                    ...                  ...   \n",
       "34324                         NaN                    NaN                  NaN   \n",
       "34325                         NaN                    NaN                  NaN   \n",
       "34326                         NaN                    NaN                  NaN   \n",
       "34327                         NaN                    NaN                  NaN   \n",
       "34328                         NaN                    NaN                  NaN   \n",
       "\n",
       "      instant_bookable  is_business_travel_ready          cancellation_policy  \\\n",
       "0                    f                         f  strict_14_with_grace_period   \n",
       "1                    t                         f                       strict   \n",
       "2                    f                         f                       strict   \n",
       "3                    f                         f                       strict   \n",
       "4                    t                         f                       strict   \n",
       "...                ...                       ...                          ...   \n",
       "34324                f                         f                     flexible   \n",
       "34325                f                         f                     flexible   \n",
       "34326                f                         f  strict_14_with_grace_period   \n",
       "34327                f                         f  strict_14_with_grace_period   \n",
       "34328                f                         f  strict_14_with_grace_period   \n",
       "\n",
       "       mes   ano  \n",
       "0        4  2018  \n",
       "1        4  2018  \n",
       "2        4  2018  \n",
       "3        4  2018  \n",
       "4        4  2018  \n",
       "...    ...   ...  \n",
       "34324    9  2019  \n",
       "34325    9  2019  \n",
       "34326    9  2019  \n",
       "34327    9  2019  \n",
       "34328    9  2019  \n",
       "\n",
       "[902210 rows x 31 columns]"
      ]
     },
     "metadata": {},
     "output_type": "display_data"
    }
   ],
   "source": [
    "colunas=['host_identity_verified','neighbourhood','latitude','longitude','property_type','room_type','accommodates','bathrooms','bedrooms','beds','bed_type','amenities','price','cleaning_fee','guests_included','extra_people','minimum_nights','maximum_nights','number_of_reviews','review_scores_rating','review_scores_accuracy','review_scores_cleanliness','review_scores_checkin','review_scores_communication','review_scores_location','review_scores_value','instant_bookable','is_business_travel_ready','cancellation_policy','mes','ano']\n",
    "base= base.loc[:,colunas]\n",
    "display(base)"
   ]
  },
  {
   "cell_type": "markdown",
   "id": "8d4ca364",
   "metadata": {
    "heading_collapsed": true,
    "hidden": true
   },
   "source": [
    "### Eliminar valores nulos "
   ]
  },
  {
   "cell_type": "code",
   "execution_count": 7,
   "id": "70e35ef4",
   "metadata": {
    "hidden": true
   },
   "outputs": [
    {
     "name": "stdout",
     "output_type": "stream",
     "text": [
      "host_identity_verified      0\n",
      "neighbourhood               0\n",
      "latitude                    0\n",
      "longitude                   0\n",
      "property_type               0\n",
      "room_type                   0\n",
      "accommodates                0\n",
      "bathrooms                   0\n",
      "bedrooms                    0\n",
      "beds                        0\n",
      "bed_type                    0\n",
      "amenities                   0\n",
      "price                       0\n",
      "guests_included             0\n",
      "extra_people                0\n",
      "minimum_nights              0\n",
      "maximum_nights              0\n",
      "number_of_reviews           0\n",
      "instant_bookable            0\n",
      "is_business_travel_ready    0\n",
      "cancellation_policy         0\n",
      "mes                         0\n",
      "ano                         0\n",
      "dtype: int64\n"
     ]
    }
   ],
   "source": [
    "# valores nulos \n",
    "\n",
    "# exluir colunas com muitos valores Nan\n",
    "for c in base:\n",
    "    if base[c].isnull().sum() > 300000:\n",
    "        base = base.drop(c,axis= 1)\n",
    "# excluir linhas nulas \n",
    "base = base.dropna()\n",
    "print(base.isnull().sum())        "
   ]
  },
  {
   "cell_type": "markdown",
   "id": "e38c09e7",
   "metadata": {
    "heading_collapsed": true,
    "hidden": true
   },
   "source": [
    "### Configurandos caracteres "
   ]
  },
  {
   "cell_type": "code",
   "execution_count": 8,
   "id": "b95b8c5f",
   "metadata": {
    "hidden": true,
    "scrolled": false
   },
   "outputs": [
    {
     "name": "stdout",
     "output_type": "stream",
     "text": [
      "host_identity_verified\n",
      "0    t\n",
      "Name: host_identity_verified, dtype: object\n",
      "-------------------------------------------\n",
      "neighbourhood\n",
      "0    Botafogo\n",
      "Name: neighbourhood, dtype: object\n",
      "-------------------------------------------\n",
      "latitude\n",
      "0   -22.946854\n",
      "Name: latitude, dtype: float64\n",
      "-------------------------------------------\n",
      "longitude\n",
      "0   -43.182737\n",
      "Name: longitude, dtype: float64\n",
      "-------------------------------------------\n",
      "property_type\n",
      "0    Apartment\n",
      "Name: property_type, dtype: object\n",
      "-------------------------------------------\n",
      "room_type\n",
      "0    Entire home/apt\n",
      "Name: room_type, dtype: object\n",
      "-------------------------------------------\n",
      "accommodates\n",
      "0    4\n",
      "Name: accommodates, dtype: int64\n",
      "-------------------------------------------\n",
      "bathrooms\n",
      "0    1.0\n",
      "Name: bathrooms, dtype: float64\n",
      "-------------------------------------------\n",
      "bedrooms\n",
      "0    0.0\n",
      "Name: bedrooms, dtype: float64\n",
      "-------------------------------------------\n",
      "beds\n",
      "0    2.0\n",
      "Name: beds, dtype: float64\n",
      "-------------------------------------------\n",
      "bed_type\n",
      "0    Real Bed\n",
      "Name: bed_type, dtype: object\n",
      "-------------------------------------------\n",
      "amenities\n",
      "0    {TV,Internet,\"Air conditioning\",Kitchen,Doorma...\n",
      "Name: amenities, dtype: object\n",
      "-------------------------------------------\n",
      "price\n",
      "0    $133.00\n",
      "Name: price, dtype: object\n",
      "-------------------------------------------\n",
      "guests_included\n",
      "0    2\n",
      "Name: guests_included, dtype: int64\n",
      "-------------------------------------------\n",
      "extra_people\n",
      "0    $34.00\n",
      "Name: extra_people, dtype: object\n",
      "-------------------------------------------\n",
      "minimum_nights\n",
      "0    60\n",
      "Name: minimum_nights, dtype: int64\n",
      "-------------------------------------------\n",
      "maximum_nights\n",
      "0    365\n",
      "Name: maximum_nights, dtype: int64\n",
      "-------------------------------------------\n",
      "number_of_reviews\n",
      "0    38\n",
      "Name: number_of_reviews, dtype: int64\n",
      "-------------------------------------------\n",
      "instant_bookable\n",
      "0    f\n",
      "Name: instant_bookable, dtype: object\n",
      "-------------------------------------------\n",
      "is_business_travel_ready\n",
      "0    f\n",
      "Name: is_business_travel_ready, dtype: object\n",
      "-------------------------------------------\n",
      "cancellation_policy\n",
      "0    strict_14_with_grace_period\n",
      "Name: cancellation_policy, dtype: object\n",
      "-------------------------------------------\n",
      "mes\n",
      "0    4\n",
      "Name: mes, dtype: int64\n",
      "-------------------------------------------\n",
      "ano\n",
      "0    2018\n",
      "Name: ano, dtype: object\n",
      "-------------------------------------------\n"
     ]
    }
   ],
   "source": [
    "# Mostra cada coluna  e seu tipo\n",
    "c1= 0    \n",
    "for c1 in base:\n",
    "    \n",
    "    print(c1)\n",
    "    print(base[c1].head(1))\n",
    "    print('-------------------------------------------')"
   ]
  },
  {
   "cell_type": "code",
   "execution_count": 9,
   "id": "c271f83e",
   "metadata": {
    "hidden": true
   },
   "outputs": [
    {
     "name": "stderr",
     "output_type": "stream",
     "text": [
      "C:\\Users\\Gabriel\\AppData\\Local\\Temp\\ipykernel_11784\\2791605002.py:2: FutureWarning: The default value of regex will change from True to False in a future version. In addition, single character regular expressions will *not* be treated as literal strings when regex=True.\n",
      "  base['price'] = base['price'].str.replace('$','')\n",
      "C:\\Users\\Gabriel\\AppData\\Local\\Temp\\ipykernel_11784\\2791605002.py:8: FutureWarning: The default value of regex will change from True to False in a future version. In addition, single character regular expressions will *not* be treated as literal strings when regex=True.\n",
      "  base['extra_people'] = base['extra_people'].str.replace('$','')\n"
     ]
    }
   ],
   "source": [
    "\n",
    "# price = object, tirar a virgula e o sifrao do separador\n",
    "base['price'] = base['price'].str.replace('$','')\n",
    "base['price'] = base['price'].str.replace(',','')\n",
    "base['price'] = base['price'].astype(np.float32)# transformar em float\n",
    "\n",
    "# extra_people = object  ,tirar a virgula e o sifrao do separador\n",
    "\n",
    "base['extra_people'] = base['extra_people'].str.replace('$','')\n",
    "base['extra_people'] = base['extra_people'].str.replace(',','')\n",
    "base['extra_people'] = base['extra_people'].astype(np.float32)\n",
    "\n"
   ]
  },
  {
   "cell_type": "markdown",
   "id": "f358344f",
   "metadata": {},
   "source": [
    "#  Análise exploratória"
   ]
  },
  {
   "cell_type": "markdown",
   "id": "5788f241",
   "metadata": {},
   "source": [
    "Excluir outliers (valores extremos 'pontos fora da curva') usa a mediana \n",
    "\n",
    "Amplitude entre quartil= 3º - 1º\n",
    "Outlier = Abaixo 1ºQ - 1.5xAmplitude\n",
    "Outilier = Acima 3ºQ + 1.5x Amplitude\n",
    "\n",
    "media  = (2000+2000+2000+3000+4500+4500+5000+9000+35000)/9\n",
    "\n",
    "moda = 2000 # o que mais repete\n",
    "\n",
    "mediana = 4500 #ordenar o valor e pegar o valor do meio \n"
   ]
  },
  {
   "cell_type": "markdown",
   "id": "922769a2",
   "metadata": {
    "heading_collapsed": true
   },
   "source": [
    "### Função tratar outliers"
   ]
  },
  {
   "cell_type": "code",
   "execution_count": 10,
   "id": "58f1c569",
   "metadata": {
    "hidden": true,
    "scrolled": true
   },
   "outputs": [],
   "source": [
    "def limites(coluna):\n",
    "    q1 = coluna.quantile(0.25)\n",
    "    q3 = coluna.quantile(0.75)\n",
    "    a = q3 - q1\n",
    "    li = q1-1.5*a\n",
    "    ls = q3 + 1.5*a\n",
    "    return li, ls\n",
    "# retorna uma tupla com o limite inf e superior"
   ]
  },
  {
   "cell_type": "code",
   "execution_count": 11,
   "id": "17158467",
   "metadata": {
    "hidden": true
   },
   "outputs": [],
   "source": [
    "def tratar_outliers(df,nome_coluna):\n",
    "    q_linhas = df.shape[0] # Quantidade de linhas\n",
    "    lim_inf, lim_sup = limites(df[nome_coluna])\n",
    "    # linhas onde é maior que o limite inferior e menor que o limite superior\n",
    "    df= df.loc[(df[nome_coluna]>=lim_inf )&(df[nome_coluna]<=lim_sup),:]\n",
    "    linhas_removidas =q_linhas - df.shape[0] \n",
    "    return df, linhas_removidas"
   ]
  },
  {
   "cell_type": "markdown",
   "id": "3c2b1818",
   "metadata": {
    "heading_collapsed": true
   },
   "source": [
    "### Funções para graficos "
   ]
  },
  {
   "cell_type": "code",
   "execution_count": 12,
   "id": "50ddf0cc",
   "metadata": {
    "hidden": true
   },
   "outputs": [],
   "source": [
    "def box_plot(coluna):\n",
    "    sns.boxplot(x= coluna)\n",
    "    \n",
    "def histograma(coluna):\n",
    "    plt.figure(figsize=(15,5))\n",
    "    sns.distplot(coluna, hist = True)\n",
    "    \n",
    "def grafico_barra(coluna): \n",
    "    plt.figure(figsize=(15,5))\n",
    "    #ax=\n",
    "    sns.barplot(x=coluna.value_counts().index, y=coluna.value_counts() )\n",
    "    #ax.set_xlim(limites(colunas))\n"
   ]
  },
  {
   "cell_type": "markdown",
   "id": "017980f7",
   "metadata": {
    "heading_collapsed": true
   },
   "source": [
    "### Outliers price"
   ]
  },
  {
   "cell_type": "code",
   "execution_count": 13,
   "id": "92dd916c",
   "metadata": {
    "hidden": true
   },
   "outputs": [
    {
     "name": "stderr",
     "output_type": "stream",
     "text": [
      "C:\\Users\\Gabriel\\anaconda3\\lib\\site-packages\\seaborn\\distributions.py:2619: FutureWarning: `distplot` is a deprecated function and will be removed in a future version. Please adapt your code to use either `displot` (a figure-level function with similar flexibility) or `histplot` (an axes-level function for histograms).\n",
      "  warnings.warn(msg, FutureWarning)\n"
     ]
    },
    {
     "data": {
      "image/png": "[encoded data removed]",
      "text/plain": [
       "<Figure size 460.8x403.2 with 1 Axes>"
      ]
     },
     "metadata": {},
     "output_type": "display_data"
    },
    {
     "data": {
      "image/png": "[encoded data removed]",
      "text/plain": [
       "<Figure size 1080x360 with 1 Axes>"
      ]
     },
     "metadata": {},
     "output_type": "display_data"
    }
   ],
   "source": [
    "#antes da eliminação de outliers \n",
    "box_plot(base['price'])\n",
    "histograma(base['price'])"
   ]
  },
  {
   "cell_type": "code",
   "execution_count": 14,
   "id": "5cb95023",
   "metadata": {
    "hidden": true
   },
   "outputs": [
    {
     "name": "stdout",
     "output_type": "stream",
     "text": [
      "82154\n"
     ]
    }
   ],
   "source": [
    "base,linhas_removidas = tratar_outliers(base,'price')\n",
    "print(linhas_removidas)"
   ]
  },
  {
   "cell_type": "code",
   "execution_count": 15,
   "id": "65ada777",
   "metadata": {
    "hidden": true,
    "scrolled": true
   },
   "outputs": [
    {
     "name": "stderr",
     "output_type": "stream",
     "text": [
      "C:\\Users\\Gabriel\\anaconda3\\lib\\site-packages\\seaborn\\distributions.py:2619: FutureWarning: `distplot` is a deprecated function and will be removed in a future version. Please adapt your code to use either `displot` (a figure-level function with similar flexibility) or `histplot` (an axes-level function for histograms).\n",
      "  warnings.warn(msg, FutureWarning)\n"
     ]
    },
    {
     "data": {
      "image/png": "[encoded data removed]",
      "text/plain": [
       "<Figure size 1080x360 with 1 Axes>"
      ]
     },
     "metadata": {},
     "output_type": "display_data"
    }
   ],
   "source": [
    "histograma(base['price'])\n",
    "box_plot(base['price'])\n"
   ]
  },
  {
   "cell_type": "markdown",
   "id": "d692c564",
   "metadata": {
    "heading_collapsed": true
   },
   "source": [
    "### Extra_people"
   ]
  },
  {
   "cell_type": "code",
   "execution_count": 16,
   "id": "19e8ed97",
   "metadata": {
    "hidden": true
   },
   "outputs": [
    {
     "name": "stderr",
     "output_type": "stream",
     "text": [
      "C:\\Users\\Gabriel\\anaconda3\\lib\\site-packages\\seaborn\\distributions.py:2619: FutureWarning: `distplot` is a deprecated function and will be removed in a future version. Please adapt your code to use either `displot` (a figure-level function with similar flexibility) or `histplot` (an axes-level function for histograms).\n",
      "  warnings.warn(msg, FutureWarning)\n"
     ]
    },
    {
     "data": {
      "image/png": "[encoded data removed]",
      "text/plain": [
       "<Figure size 460.8x403.2 with 1 Axes>"
      ]
     },
     "metadata": {},
     "output_type": "display_data"
    },
    {
     "data": {
      "image/png": "[encoded data removed]",
      "text/plain": [
       "<Figure size 1080x360 with 1 Axes>"
      ]
     },
     "metadata": {},
     "output_type": "display_data"
    }
   ],
   "source": [
    "# extra_people\n",
    "box_plot(base['extra_people'])\n",
    "histograma(base['extra_people'])"
   ]
  },
  {
   "cell_type": "code",
   "execution_count": 17,
   "id": "fdd6eb9d",
   "metadata": {
    "hidden": true
   },
   "outputs": [
    {
     "name": "stdout",
     "output_type": "stream",
     "text": [
      "55641\n"
     ]
    },
    {
     "name": "stderr",
     "output_type": "stream",
     "text": [
      "C:\\Users\\Gabriel\\anaconda3\\lib\\site-packages\\seaborn\\distributions.py:2619: FutureWarning: `distplot` is a deprecated function and will be removed in a future version. Please adapt your code to use either `displot` (a figure-level function with similar flexibility) or `histplot` (an axes-level function for histograms).\n",
      "  warnings.warn(msg, FutureWarning)\n"
     ]
    },
    {
     "data": {
      "image/png": "[encoded data removed]",
      "text/plain": [
       "<Figure size 460.8x403.2 with 1 Axes>"
      ]
     },
     "metadata": {},
     "output_type": "display_data"
    },
    {
     "data": {
      "image/png": "[encoded data removed]",
      "text/plain": [
       "<Figure size 1080x360 with 1 Axes>"
      ]
     },
     "metadata": {},
     "output_type": "display_data"
    }
   ],
   "source": [
    "base,linhas_removidas = tratar_outliers(base,'extra_people')\n",
    "print(linhas_removidas)\n",
    "box_plot(base['extra_people'])\n",
    "histograma(base['extra_people'])"
   ]
  },
  {
   "cell_type": "markdown",
   "id": "c6e65a7b",
   "metadata": {
    "heading_collapsed": true
   },
   "source": [
    "### accommodates"
   ]
  },
  {
   "cell_type": "code",
   "execution_count": 18,
   "id": "feb73aec",
   "metadata": {
    "hidden": true
   },
   "outputs": [
    {
     "data": {
      "image/png": "[encoded data removed]",
      "text/plain": [
       "<Figure size 460.8x403.2 with 1 Axes>"
      ]
     },
     "metadata": {},
     "output_type": "display_data"
    },
    {
     "data": {
      "image/png": "[encoded data removed]",
      "text/plain": [
       "<Figure size 1080x360 with 1 Axes>"
      ]
     },
     "metadata": {},
     "output_type": "display_data"
    }
   ],
   "source": [
    "box_plot(base['accommodates'])\n",
    "grafico_barra(base['accommodates'])"
   ]
  },
  {
   "cell_type": "code",
   "execution_count": 19,
   "id": "be03568f",
   "metadata": {
    "hidden": true
   },
   "outputs": [
    {
     "name": "stdout",
     "output_type": "stream",
     "text": [
      "15711\n"
     ]
    },
    {
     "data": {
      "image/png": "[encoded data removed]",
      "text/plain": [
       "<Figure size 460.8x403.2 with 1 Axes>"
      ]
     },
     "metadata": {},
     "output_type": "display_data"
    },
    {
     "data": {
      "image/png": "[encoded data removed]",
      "text/plain": [
       "<Figure size 1080x360 with 1 Axes>"
      ]
     },
     "metadata": {},
     "output_type": "display_data"
    }
   ],
   "source": [
    "base,linhas_removidas = tratar_outliers(base,'accommodates')\n",
    "print(linhas_removidas)\n",
    "box_plot(base['accommodates'])\n",
    "grafico_barra(base['accommodates'])"
   ]
  },
  {
   "cell_type": "markdown",
   "id": "2fc78fea",
   "metadata": {
    "heading_collapsed": true
   },
   "source": [
    "### bathrooms "
   ]
  },
  {
   "cell_type": "code",
   "execution_count": 20,
   "id": "79653180",
   "metadata": {
    "hidden": true,
    "scrolled": false
   },
   "outputs": [
    {
     "name": "stdout",
     "output_type": "stream",
     "text": [
      "7575\n"
     ]
    },
    {
     "data": {
      "image/png": "[encoded data removed]",
      "text/plain": [
       "<Figure size 460.8x403.2 with 1 Axes>"
      ]
     },
     "metadata": {},
     "output_type": "display_data"
    },
    {
     "data": {
      "image/png": "[encoded data removed]",
      "text/plain": [
       "<Figure size 1080x360 with 1 Axes>"
      ]
     },
     "metadata": {},
     "output_type": "display_data"
    }
   ],
   "source": [
    "base,linhas_removidas = tratar_outliers(base,'bathrooms')\n",
    "print(linhas_removidas)\n",
    "box_plot(base['bathrooms'])\n",
    "grafico_barra(base['bathrooms'])"
   ]
  },
  {
   "cell_type": "markdown",
   "id": "606be20e",
   "metadata": {
    "heading_collapsed": true
   },
   "source": [
    "### bedrooms"
   ]
  },
  {
   "cell_type": "code",
   "execution_count": 21,
   "id": "2228b86f",
   "metadata": {
    "hidden": true,
    "scrolled": true
   },
   "outputs": [
    {
     "name": "stdout",
     "output_type": "stream",
     "text": [
      "6231\n"
     ]
    },
    {
     "data": {
      "image/png": "[encoded data removed]",
      "text/plain": [
       "<Figure size 460.8x403.2 with 1 Axes>"
      ]
     },
     "metadata": {},
     "output_type": "display_data"
    },
    {
     "data": {
      "image/png": "[encoded data removed]",
      "text/plain": [
       "<Figure size 1080x360 with 1 Axes>"
      ]
     },
     "metadata": {},
     "output_type": "display_data"
    }
   ],
   "source": [
    "base,linhas_removidas = tratar_outliers(base,'bedrooms')\n",
    "print(linhas_removidas)\n",
    "box_plot(base['bedrooms'])\n",
    "grafico_barra(base['bedrooms'])"
   ]
  },
  {
   "cell_type": "markdown",
   "id": "50fc0ee0",
   "metadata": {
    "heading_collapsed": true
   },
   "source": [
    "### beds"
   ]
  },
  {
   "cell_type": "code",
   "execution_count": 22,
   "id": "cb1edb46",
   "metadata": {
    "hidden": true
   },
   "outputs": [
    {
     "name": "stdout",
     "output_type": "stream",
     "text": [
      "6545\n"
     ]
    },
    {
     "data": {
      "image/png": "[encoded data removed]",
      "text/plain": [
       "<Figure size 460.8x403.2 with 1 Axes>"
      ]
     },
     "metadata": {},
     "output_type": "display_data"
    },
    {
     "data": {
      "image/png": "[encoded data removed]",
      "text/plain": [
       "<Figure size 1080x360 with 1 Axes>"
      ]
     },
     "metadata": {},
     "output_type": "display_data"
    }
   ],
   "source": [
    "base,linhas_removidas = tratar_outliers(base,'beds')\n",
    "print(linhas_removidas)\n",
    "box_plot(base['beds'])\n",
    "grafico_barra(base['beds'])"
   ]
  },
  {
   "cell_type": "markdown",
   "id": "e880f3ca",
   "metadata": {
    "heading_collapsed": true
   },
   "source": [
    "### guests_included  "
   ]
  },
  {
   "cell_type": "code",
   "execution_count": 23,
   "id": "8e4c95a6",
   "metadata": {
    "hidden": true
   },
   "outputs": [
    {
     "data": {
      "image/png": "[encoded data removed]",
      "text/plain": [
       "<Figure size 460.8x403.2 with 1 Axes>"
      ]
     },
     "metadata": {},
     "output_type": "display_data"
    },
    {
     "data": {
      "image/png": "[encoded data removed]",
      "text/plain": [
       "<Figure size 1080x360 with 1 Axes>"
      ]
     },
     "metadata": {},
     "output_type": "display_data"
    }
   ],
   "source": [
    "#removido\n",
    "box_plot(base['guests_included'])\n",
    "grafico_barra(base['guests_included'])\n",
    "base = base.drop('guests_included',axis = 1)"
   ]
  },
  {
   "cell_type": "markdown",
   "id": "009d715c",
   "metadata": {
    "heading_collapsed": true
   },
   "source": [
    "### minimum_nights   "
   ]
  },
  {
   "cell_type": "code",
   "execution_count": 24,
   "id": "e0692533",
   "metadata": {
    "hidden": true,
    "scrolled": false
   },
   "outputs": [
    {
     "name": "stdout",
     "output_type": "stream",
     "text": [
      "39410\n"
     ]
    },
    {
     "data": {
      "image/png": "[encoded data removed]",
      "text/plain": [
       "<Figure size 460.8x403.2 with 1 Axes>"
      ]
     },
     "metadata": {},
     "output_type": "display_data"
    },
    {
     "data": {
      "image/png": "[encoded data removed]",
      "text/plain": [
       "<Figure size 1080x360 with 1 Axes>"
      ]
     },
     "metadata": {},
     "output_type": "display_data"
    }
   ],
   "source": [
    "base,linhas_removidas = tratar_outliers(base,'minimum_nights')\n",
    "print(linhas_removidas)\n",
    "box_plot(base['minimum_nights'])\n",
    "grafico_barra(base['minimum_nights'])"
   ]
  },
  {
   "cell_type": "markdown",
   "id": "4961c826",
   "metadata": {
    "heading_collapsed": true
   },
   "source": [
    "### maximum_nights"
   ]
  },
  {
   "cell_type": "code",
   "execution_count": 25,
   "id": "62ad2f22",
   "metadata": {
    "hidden": true
   },
   "outputs": [],
   "source": [
    "#removido\n",
    "base = base.drop('maximum_nights',axis = 1)\n"
   ]
  },
  {
   "cell_type": "markdown",
   "id": "d9002e79",
   "metadata": {
    "heading_collapsed": true
   },
   "source": [
    "### number_of_reviews "
   ]
  },
  {
   "cell_type": "code",
   "execution_count": 26,
   "id": "ec805c4e",
   "metadata": {
    "hidden": true
   },
   "outputs": [],
   "source": [
    "#removido\n",
    "base = base.drop('number_of_reviews',axis = 1)               "
   ]
  },
  {
   "cell_type": "markdown",
   "id": "b7ed98de",
   "metadata": {
    "heading_collapsed": true
   },
   "source": [
    "### property_type"
   ]
  },
  {
   "cell_type": "code",
   "execution_count": 27,
   "id": "fa0115b9",
   "metadata": {
    "hidden": true
   },
   "outputs": [
    {
     "name": "stdout",
     "output_type": "stream",
     "text": [
      "Apartment                 502725\n",
      "House                      43963\n",
      "Condominium                28147\n",
      "Serviced apartment         16635\n",
      "Loft                       12721\n",
      "Bed and breakfast           3972\n",
      "Guest suite                 3763\n",
      "Hostel                      3181\n",
      "Other                       2196\n",
      "Guesthouse                  2127\n",
      "Villa                       1193\n",
      "Aparthotel                  1183\n",
      "Hotel                       1044\n",
      "Townhouse                    931\n",
      "Boutique hotel               513\n",
      "Chalet                       445\n",
      "Tiny house                   402\n",
      "Earth house                  321\n",
      "Casa particular (Cuba)       237\n",
      "Bungalow                     198\n",
      "Dorm                         164\n",
      "Cottage                      159\n",
      "Nature lodge                 110\n",
      "Castle                       106\n",
      "Cabin                         74\n",
      "Island                        54\n",
      "Boat                          51\n",
      "Treehouse                     51\n",
      "Campsite                      34\n",
      "Resort                        26\n",
      "Camper/RV                     24\n",
      "Tent                          18\n",
      "Tipi                          17\n",
      "Hut                           13\n",
      "Barn                          12\n",
      "Farm stay                     11\n",
      "Vacation home                  9\n",
      "Dome house                     8\n",
      "Parking Space                  8\n",
      "In-law                         7\n",
      "Igloo                          6\n",
      "Train                          5\n",
      "Pousada                        5\n",
      "Houseboat                      3\n",
      "Timeshare                      2\n",
      "Casa particular                2\n",
      "Pension (South Korea)          2\n",
      "Plane                          1\n",
      "Name: property_type, dtype: int64\n"
     ]
    },
    {
     "name": "stderr",
     "output_type": "stream",
     "text": [
      "C:\\Users\\Gabriel\\anaconda3\\lib\\site-packages\\seaborn\\_decorators.py:36: FutureWarning: Pass the following variable as a keyword arg: x. From version 0.12, the only valid positional argument will be `data`, and passing other arguments without an explicit keyword will result in an error or misinterpretation.\n",
      "  warnings.warn(\n"
     ]
    },
    {
     "data": {
      "text/plain": [
       "<AxesSubplot:xlabel='property_type', ylabel='count'>"
      ]
     },
     "execution_count": 27,
     "metadata": {},
     "output_type": "execute_result"
    },
    {
     "data": {
      "image/png": "[encoded data removed]",
      "text/plain": [
       "<Figure size 1080x360 with 1 Axes>"
      ]
     },
     "metadata": {},
     "output_type": "display_data"
    }
   ],
   "source": [
    "#property_type\n",
    "print(base['property_type'].value_counts())\n",
    "\n",
    "plt.figure(figsize = (15,5))\n",
    "sns.countplot('property_type',data = base)\n"
   ]
  },
  {
   "cell_type": "code",
   "execution_count": 28,
   "id": "e75d3f5d",
   "metadata": {
    "hidden": true
   },
   "outputs": [
    {
     "name": "stdout",
     "output_type": "stream",
     "text": [
      "['Other', 'Guesthouse', 'Villa', 'Aparthotel', 'Hotel', 'Townhouse', 'Boutique hotel', 'Chalet', 'Tiny house', 'Earth house', 'Casa particular (Cuba)', 'Bungalow', 'Dorm', 'Cottage', 'Nature lodge', 'Castle', 'Cabin', 'Island', 'Boat', 'Treehouse', 'Campsite', 'Resort', 'Camper/RV', 'Tent', 'Tipi', 'Hut', 'Barn', 'Farm stay', 'Vacation home', 'Dome house', 'Parking Space', 'In-law', 'Igloo', 'Train', 'Pousada', 'Houseboat', 'Timeshare', 'Casa particular', 'Pension (South Korea)', 'Plane']\n",
      "Apartment             502725\n",
      "House                  43963\n",
      "Condominium            28147\n",
      "Serviced apartment     16635\n",
      "Loft                   12721\n",
      "Outros                 11772\n",
      "Bed and breakfast       3972\n",
      "Guest suite             3763\n",
      "Hostel                  3181\n",
      "Name: property_type, dtype: int64\n"
     ]
    },
    {
     "name": "stderr",
     "output_type": "stream",
     "text": [
      "C:\\Users\\Gabriel\\anaconda3\\lib\\site-packages\\seaborn\\_decorators.py:36: FutureWarning: Pass the following variable as a keyword arg: x. From version 0.12, the only valid positional argument will be `data`, and passing other arguments without an explicit keyword will result in an error or misinterpretation.\n",
      "  warnings.warn(\n"
     ]
    },
    {
     "data": {
      "text/plain": [
       "<AxesSubplot:xlabel='property_type', ylabel='count'>"
      ]
     },
     "execution_count": 28,
     "metadata": {},
     "output_type": "execute_result"
    },
    {
     "data": {
      "image/png": "[encoded data removed]",
      "text/plain": [
       "<Figure size 1080x360 with 1 Axes>"
      ]
     },
     "metadata": {},
     "output_type": "display_data"
    }
   ],
   "source": [
    "tabela_tipos_c = base['property_type'].value_counts()\n",
    "colunas_agrupar = []\n",
    "for tipo in tabela_tipos_c.index:\n",
    "    if tabela_tipos_c[tipo] < 2500:\n",
    "        colunas_agrupar.append(tipo)\n",
    "print(colunas_agrupar)\n",
    "\n",
    "for tipo in colunas_agrupar:\n",
    "    base.loc[base['property_type']==tipo,'property_type'] = 'Outros'\n",
    "print(base['property_type'].value_counts())\n",
    "\n",
    "plt.figure(figsize = (15,5))\n",
    "sns.countplot('property_type',data = base)\n"
   ]
  },
  {
   "cell_type": "markdown",
   "id": "4667d8d7",
   "metadata": {
    "heading_collapsed": true
   },
   "source": [
    "### room_type"
   ]
  },
  {
   "cell_type": "code",
   "execution_count": 29,
   "id": "235cd5e2",
   "metadata": {
    "hidden": true
   },
   "outputs": [
    {
     "name": "stdout",
     "output_type": "stream",
     "text": [
      "Entire home/apt    421881\n",
      "Private room       191146\n",
      "Shared room         12059\n",
      "Hotel room           1793\n",
      "Name: room_type, dtype: int64\n"
     ]
    },
    {
     "name": "stderr",
     "output_type": "stream",
     "text": [
      "C:\\Users\\Gabriel\\anaconda3\\lib\\site-packages\\seaborn\\_decorators.py:36: FutureWarning: Pass the following variable as a keyword arg: x. From version 0.12, the only valid positional argument will be `data`, and passing other arguments without an explicit keyword will result in an error or misinterpretation.\n",
      "  warnings.warn(\n"
     ]
    },
    {
     "data": {
      "text/plain": [
       "<AxesSubplot:xlabel='room_type', ylabel='count'>"
      ]
     },
     "execution_count": 29,
     "metadata": {},
     "output_type": "execute_result"
    },
    {
     "data": {
      "image/png": "[encoded data removed]",
      "text/plain": [
       "<Figure size 1080x360 with 1 Axes>"
      ]
     },
     "metadata": {},
     "output_type": "display_data"
    }
   ],
   "source": [
    "#room_type\n",
    "print(base['room_type'].value_counts())\n",
    "\n",
    "plt.figure(figsize = (15,5))\n",
    "sns.countplot('room_type',data = base)"
   ]
  },
  {
   "cell_type": "markdown",
   "id": "363cfd69",
   "metadata": {
    "heading_collapsed": true
   },
   "source": [
    "### bed_type"
   ]
  },
  {
   "cell_type": "code",
   "execution_count": 30,
   "id": "7e0e1280",
   "metadata": {
    "hidden": true
   },
   "outputs": [
    {
     "name": "stdout",
     "output_type": "stream",
     "text": [
      "Real Bed         615992\n",
      "Pull-out Sofa      7650\n",
      "Futon              1625\n",
      "Airbed             1092\n",
      "Couch               520\n",
      "Name: bed_type, dtype: int64\n"
     ]
    },
    {
     "name": "stderr",
     "output_type": "stream",
     "text": [
      "C:\\Users\\Gabriel\\anaconda3\\lib\\site-packages\\seaborn\\_decorators.py:36: FutureWarning: Pass the following variable as a keyword arg: x. From version 0.12, the only valid positional argument will be `data`, and passing other arguments without an explicit keyword will result in an error or misinterpretation.\n",
      "  warnings.warn(\n"
     ]
    },
    {
     "data": {
      "text/plain": [
       "<AxesSubplot:xlabel='bed_type', ylabel='count'>"
      ]
     },
     "execution_count": 30,
     "metadata": {},
     "output_type": "execute_result"
    },
    {
     "data": {
      "image/png": "[encoded data removed]",
      "text/plain": [
       "<Figure size 1080x360 with 1 Axes>"
      ]
     },
     "metadata": {},
     "output_type": "display_data"
    }
   ],
   "source": [
    "#bed_type\n",
    "print(base['bed_type'].value_counts())\n",
    "\n",
    "plt.figure(figsize = (15,5))\n",
    "sns.countplot('bed_type',data = base)"
   ]
  },
  {
   "cell_type": "markdown",
   "id": "57c3f4f6",
   "metadata": {
    "heading_collapsed": true
   },
   "source": [
    "### cancellation_policy"
   ]
  },
  {
   "cell_type": "code",
   "execution_count": 39,
   "id": "50facd7e",
   "metadata": {
    "hidden": true
   },
   "outputs": [
    {
     "data": {
      "text/html": [
       "<div>\n",
       "<style scoped>\n",
       "    .dataframe tbody tr th:only-of-type {\n",
       "        vertical-align: middle;\n",
       "    }\n",
       "\n",
       "    .dataframe tbody tr th {\n",
       "        vertical-align: top;\n",
       "    }\n",
       "\n",
       "    .dataframe thead th {\n",
       "        text-align: right;\n",
       "    }\n",
       "</style>\n",
       "<table border=\"1\" class=\"dataframe\">\n",
       "  <thead>\n",
       "    <tr style=\"text-align: right;\">\n",
       "      <th></th>\n",
       "      <th>perfil_verificado</th>\n",
       "      <th>neighbourhood</th>\n",
       "      <th>latitude</th>\n",
       "      <th>longitude</th>\n",
       "      <th>tipo_propriedade</th>\n",
       "      <th>tipo_quarto</th>\n",
       "      <th>acomodacoes</th>\n",
       "      <th>banheiros</th>\n",
       "      <th>quartos</th>\n",
       "      <th>camas</th>\n",
       "      <th>tipo_cama</th>\n",
       "      <th>preco</th>\n",
       "      <th>pessoas_extra</th>\n",
       "      <th>noites_min</th>\n",
       "      <th>reserva_instantanea</th>\n",
       "      <th>viagens_negocio</th>\n",
       "      <th>cancelamento</th>\n",
       "      <th>mes</th>\n",
       "      <th>ano</th>\n",
       "      <th>n_amenities</th>\n",
       "    </tr>\n",
       "  </thead>\n",
       "  <tbody>\n",
       "    <tr>\n",
       "      <th>1</th>\n",
       "      <td>f</td>\n",
       "      <td>Copacabana</td>\n",
       "      <td>-22.965919</td>\n",
       "      <td>-43.178962</td>\n",
       "      <td>Condominium</td>\n",
       "      <td>Entire home/apt</td>\n",
       "      <td>5</td>\n",
       "      <td>1.0</td>\n",
       "      <td>2.0</td>\n",
       "      <td>2.0</td>\n",
       "      <td>Real Bed</td>\n",
       "      <td>270.0</td>\n",
       "      <td>51.0</td>\n",
       "      <td>4</td>\n",
       "      <td>t</td>\n",
       "      <td>f</td>\n",
       "      <td>strict</td>\n",
       "      <td>4</td>\n",
       "      <td>2018</td>\n",
       "      <td>25</td>\n",
       "    </tr>\n",
       "    <tr>\n",
       "      <th>3</th>\n",
       "      <td>t</td>\n",
       "      <td>Copacabana</td>\n",
       "      <td>-22.977117</td>\n",
       "      <td>-43.190454</td>\n",
       "      <td>Apartment</td>\n",
       "      <td>Entire home/apt</td>\n",
       "      <td>3</td>\n",
       "      <td>1.0</td>\n",
       "      <td>1.0</td>\n",
       "      <td>2.0</td>\n",
       "      <td>Real Bed</td>\n",
       "      <td>161.0</td>\n",
       "      <td>45.0</td>\n",
       "      <td>4</td>\n",
       "      <td>f</td>\n",
       "      <td>f</td>\n",
       "      <td>strict</td>\n",
       "      <td>4</td>\n",
       "      <td>2018</td>\n",
       "      <td>14</td>\n",
       "    </tr>\n",
       "    <tr>\n",
       "      <th>4</th>\n",
       "      <td>t</td>\n",
       "      <td>Ipanema</td>\n",
       "      <td>-22.983024</td>\n",
       "      <td>-43.214270</td>\n",
       "      <td>Apartment</td>\n",
       "      <td>Entire home/apt</td>\n",
       "      <td>3</td>\n",
       "      <td>1.0</td>\n",
       "      <td>1.0</td>\n",
       "      <td>2.0</td>\n",
       "      <td>Real Bed</td>\n",
       "      <td>222.0</td>\n",
       "      <td>68.0</td>\n",
       "      <td>2</td>\n",
       "      <td>t</td>\n",
       "      <td>f</td>\n",
       "      <td>strict</td>\n",
       "      <td>4</td>\n",
       "      <td>2018</td>\n",
       "      <td>16</td>\n",
       "    </tr>\n",
       "    <tr>\n",
       "      <th>5</th>\n",
       "      <td>t</td>\n",
       "      <td>Ipanema</td>\n",
       "      <td>-22.988165</td>\n",
       "      <td>-43.193588</td>\n",
       "      <td>Apartment</td>\n",
       "      <td>Entire home/apt</td>\n",
       "      <td>3</td>\n",
       "      <td>1.5</td>\n",
       "      <td>1.0</td>\n",
       "      <td>2.0</td>\n",
       "      <td>Real Bed</td>\n",
       "      <td>308.0</td>\n",
       "      <td>86.0</td>\n",
       "      <td>2</td>\n",
       "      <td>f</td>\n",
       "      <td>f</td>\n",
       "      <td>strict</td>\n",
       "      <td>4</td>\n",
       "      <td>2018</td>\n",
       "      <td>30</td>\n",
       "    </tr>\n",
       "    <tr>\n",
       "      <th>6</th>\n",
       "      <td>t</td>\n",
       "      <td>Copacabana</td>\n",
       "      <td>-22.981269</td>\n",
       "      <td>-43.190457</td>\n",
       "      <td>Loft</td>\n",
       "      <td>Entire home/apt</td>\n",
       "      <td>2</td>\n",
       "      <td>1.0</td>\n",
       "      <td>1.0</td>\n",
       "      <td>2.0</td>\n",
       "      <td>Real Bed</td>\n",
       "      <td>219.0</td>\n",
       "      <td>80.0</td>\n",
       "      <td>3</td>\n",
       "      <td>t</td>\n",
       "      <td>f</td>\n",
       "      <td>strict</td>\n",
       "      <td>4</td>\n",
       "      <td>2018</td>\n",
       "      <td>30</td>\n",
       "    </tr>\n",
       "    <tr>\n",
       "      <th>...</th>\n",
       "      <td>...</td>\n",
       "      <td>...</td>\n",
       "      <td>...</td>\n",
       "      <td>...</td>\n",
       "      <td>...</td>\n",
       "      <td>...</td>\n",
       "      <td>...</td>\n",
       "      <td>...</td>\n",
       "      <td>...</td>\n",
       "      <td>...</td>\n",
       "      <td>...</td>\n",
       "      <td>...</td>\n",
       "      <td>...</td>\n",
       "      <td>...</td>\n",
       "      <td>...</td>\n",
       "      <td>...</td>\n",
       "      <td>...</td>\n",
       "      <td>...</td>\n",
       "      <td>...</td>\n",
       "      <td>...</td>\n",
       "    </tr>\n",
       "    <tr>\n",
       "      <th>34324</th>\n",
       "      <td>f</td>\n",
       "      <td>Barra da Tijuca</td>\n",
       "      <td>-23.003180</td>\n",
       "      <td>-43.342840</td>\n",
       "      <td>Apartment</td>\n",
       "      <td>Entire home/apt</td>\n",
       "      <td>4</td>\n",
       "      <td>1.0</td>\n",
       "      <td>0.0</td>\n",
       "      <td>2.0</td>\n",
       "      <td>Real Bed</td>\n",
       "      <td>121.0</td>\n",
       "      <td>50.0</td>\n",
       "      <td>1</td>\n",
       "      <td>f</td>\n",
       "      <td>f</td>\n",
       "      <td>flexible</td>\n",
       "      <td>9</td>\n",
       "      <td>2019</td>\n",
       "      <td>18</td>\n",
       "    </tr>\n",
       "    <tr>\n",
       "      <th>34325</th>\n",
       "      <td>f</td>\n",
       "      <td>Barra da Tijuca</td>\n",
       "      <td>-22.966640</td>\n",
       "      <td>-43.393450</td>\n",
       "      <td>Apartment</td>\n",
       "      <td>Entire home/apt</td>\n",
       "      <td>4</td>\n",
       "      <td>2.0</td>\n",
       "      <td>2.0</td>\n",
       "      <td>3.0</td>\n",
       "      <td>Real Bed</td>\n",
       "      <td>799.0</td>\n",
       "      <td>0.0</td>\n",
       "      <td>2</td>\n",
       "      <td>f</td>\n",
       "      <td>f</td>\n",
       "      <td>flexible</td>\n",
       "      <td>9</td>\n",
       "      <td>2019</td>\n",
       "      <td>12</td>\n",
       "    </tr>\n",
       "    <tr>\n",
       "      <th>34326</th>\n",
       "      <td>t</td>\n",
       "      <td>Copacabana</td>\n",
       "      <td>-22.962080</td>\n",
       "      <td>-43.175520</td>\n",
       "      <td>Apartment</td>\n",
       "      <td>Entire home/apt</td>\n",
       "      <td>5</td>\n",
       "      <td>1.0</td>\n",
       "      <td>1.0</td>\n",
       "      <td>2.0</td>\n",
       "      <td>Real Bed</td>\n",
       "      <td>420.0</td>\n",
       "      <td>30.0</td>\n",
       "      <td>3</td>\n",
       "      <td>f</td>\n",
       "      <td>f</td>\n",
       "      <td>strict_14_with_grace_period</td>\n",
       "      <td>9</td>\n",
       "      <td>2019</td>\n",
       "      <td>9</td>\n",
       "    </tr>\n",
       "    <tr>\n",
       "      <th>34327</th>\n",
       "      <td>t</td>\n",
       "      <td>Barra da Tijuca</td>\n",
       "      <td>-23.003400</td>\n",
       "      <td>-43.341820</td>\n",
       "      <td>Apartment</td>\n",
       "      <td>Entire home/apt</td>\n",
       "      <td>4</td>\n",
       "      <td>1.0</td>\n",
       "      <td>1.0</td>\n",
       "      <td>1.0</td>\n",
       "      <td>Real Bed</td>\n",
       "      <td>250.0</td>\n",
       "      <td>0.0</td>\n",
       "      <td>1</td>\n",
       "      <td>f</td>\n",
       "      <td>f</td>\n",
       "      <td>strict_14_with_grace_period</td>\n",
       "      <td>9</td>\n",
       "      <td>2019</td>\n",
       "      <td>25</td>\n",
       "    </tr>\n",
       "    <tr>\n",
       "      <th>34328</th>\n",
       "      <td>f</td>\n",
       "      <td>Barra da Tijuca</td>\n",
       "      <td>-23.010560</td>\n",
       "      <td>-43.363350</td>\n",
       "      <td>Apartment</td>\n",
       "      <td>Private room</td>\n",
       "      <td>2</td>\n",
       "      <td>0.0</td>\n",
       "      <td>1.0</td>\n",
       "      <td>1.0</td>\n",
       "      <td>Real Bed</td>\n",
       "      <td>92.0</td>\n",
       "      <td>80.0</td>\n",
       "      <td>1</td>\n",
       "      <td>f</td>\n",
       "      <td>f</td>\n",
       "      <td>strict_14_with_grace_period</td>\n",
       "      <td>9</td>\n",
       "      <td>2019</td>\n",
       "      <td>17</td>\n",
       "    </tr>\n",
       "  </tbody>\n",
       "</table>\n",
       "<p>626879 rows × 20 columns</p>\n",
       "</div>"
      ],
      "text/plain": [
       "      perfil_verificado    neighbourhood   latitude  longitude  \\\n",
       "1                     f       Copacabana -22.965919 -43.178962   \n",
       "3                     t       Copacabana -22.977117 -43.190454   \n",
       "4                     t          Ipanema -22.983024 -43.214270   \n",
       "5                     t          Ipanema -22.988165 -43.193588   \n",
       "6                     t       Copacabana -22.981269 -43.190457   \n",
       "...                 ...              ...        ...        ...   \n",
       "34324                 f  Barra da Tijuca -23.003180 -43.342840   \n",
       "34325                 f  Barra da Tijuca -22.966640 -43.393450   \n",
       "34326                 t       Copacabana -22.962080 -43.175520   \n",
       "34327                 t  Barra da Tijuca -23.003400 -43.341820   \n",
       "34328                 f  Barra da Tijuca -23.010560 -43.363350   \n",
       "\n",
       "      tipo_propriedade      tipo_quarto  acomodacoes  banheiros  quartos  \\\n",
       "1          Condominium  Entire home/apt            5        1.0      2.0   \n",
       "3            Apartment  Entire home/apt            3        1.0      1.0   \n",
       "4            Apartment  Entire home/apt            3        1.0      1.0   \n",
       "5            Apartment  Entire home/apt            3        1.5      1.0   \n",
       "6                 Loft  Entire home/apt            2        1.0      1.0   \n",
       "...                ...              ...          ...        ...      ...   \n",
       "34324        Apartment  Entire home/apt            4        1.0      0.0   \n",
       "34325        Apartment  Entire home/apt            4        2.0      2.0   \n",
       "34326        Apartment  Entire home/apt            5        1.0      1.0   \n",
       "34327        Apartment  Entire home/apt            4        1.0      1.0   \n",
       "34328        Apartment     Private room            2        0.0      1.0   \n",
       "\n",
       "       camas tipo_cama  preco  pessoas_extra  noites_min reserva_instantanea  \\\n",
       "1        2.0  Real Bed  270.0           51.0           4                   t   \n",
       "3        2.0  Real Bed  161.0           45.0           4                   f   \n",
       "4        2.0  Real Bed  222.0           68.0           2                   t   \n",
       "5        2.0  Real Bed  308.0           86.0           2                   f   \n",
       "6        2.0  Real Bed  219.0           80.0           3                   t   \n",
       "...      ...       ...    ...            ...         ...                 ...   \n",
       "34324    2.0  Real Bed  121.0           50.0           1                   f   \n",
       "34325    3.0  Real Bed  799.0            0.0           2                   f   \n",
       "34326    2.0  Real Bed  420.0           30.0           3                   f   \n",
       "34327    1.0  Real Bed  250.0            0.0           1                   f   \n",
       "34328    1.0  Real Bed   92.0           80.0           1                   f   \n",
       "\n",
       "      viagens_negocio                 cancelamento  mes   ano  n_amenities  \n",
       "1                   f                       strict    4  2018           25  \n",
       "3                   f                       strict    4  2018           14  \n",
       "4                   f                       strict    4  2018           16  \n",
       "5                   f                       strict    4  2018           30  \n",
       "6                   f                       strict    4  2018           30  \n",
       "...               ...                          ...  ...   ...          ...  \n",
       "34324               f                     flexible    9  2019           18  \n",
       "34325               f                     flexible    9  2019           12  \n",
       "34326               f  strict_14_with_grace_period    9  2019            9  \n",
       "34327               f  strict_14_with_grace_period    9  2019           25  \n",
       "34328               f  strict_14_with_grace_period    9  2019           17  \n",
       "\n",
       "[626879 rows x 20 columns]"
      ]
     },
     "metadata": {},
     "output_type": "display_data"
    }
   ],
   "source": [
    "\n",
    "base.rename(columns={'host_identity_verified':'perfil_verificado','property_type':'tipo_propriedade','room_type':'tipo_quarto','accommodates':'acomodacoes','bathrooms':'banheiros','bedrooms':'quartos','beds':'camas','bed_type':'tipo_cama','price':'preco','extra_people':'pessoas_extra','minimum_nights':'noites_min','instant_bookable':'reserva_instantanea','is_business_travel_ready':'viagens_negocio','cancellation_policy':'cancelamento'},inplace = True)\n",
    "display(base)"
   ]
  },
  {
   "cell_type": "code",
   "execution_count": 40,
   "id": "e47180c7",
   "metadata": {
    "hidden": true,
    "scrolled": true
   },
   "outputs": [
    {
     "name": "stdout",
     "output_type": "stream",
     "text": [
      "flexible                       254593\n",
      "strict_14_with_grace_period    236831\n",
      "moderate                       115260\n",
      "strict                          20195\n",
      "Name: cancelamento, dtype: int64\n"
     ]
    },
    {
     "name": "stderr",
     "output_type": "stream",
     "text": [
      "C:\\Users\\Gabriel\\anaconda3\\lib\\site-packages\\seaborn\\_decorators.py:36: FutureWarning: Pass the following variable as a keyword arg: x. From version 0.12, the only valid positional argument will be `data`, and passing other arguments without an explicit keyword will result in an error or misinterpretation.\n",
      "  warnings.warn(\n"
     ]
    },
    {
     "data": {
      "text/plain": [
       "<AxesSubplot:xlabel='cancelamento', ylabel='count'>"
      ]
     },
     "execution_count": 40,
     "metadata": {},
     "output_type": "execute_result"
    },
    {
     "data": {
      "image/png": "[encoded data removed]",
      "text/plain": [
       "<Figure size 1080x360 with 1 Axes>"
      ]
     },
     "metadata": {},
     "output_type": "display_data"
    }
   ],
   "source": [
    "#cancellation_policy\n",
    "print(base['cancelamento'].value_counts())\n",
    "\n",
    "plt.figure(figsize = (15,5))\n",
    "sns.countplot('cancelamento',data = base)"
   ]
  },
  {
   "cell_type": "code",
   "execution_count": 41,
   "id": "2ddcdcea",
   "metadata": {
    "hidden": true
   },
   "outputs": [
    {
     "name": "stdout",
     "output_type": "stream",
     "text": [
      "[]\n",
      "flexible                       254593\n",
      "strict_14_with_grace_period    236831\n",
      "moderate                       115260\n",
      "strict                          20195\n",
      "Name: cancelamento, dtype: int64\n"
     ]
    },
    {
     "name": "stderr",
     "output_type": "stream",
     "text": [
      "C:\\Users\\Gabriel\\anaconda3\\lib\\site-packages\\seaborn\\_decorators.py:36: FutureWarning: Pass the following variable as a keyword arg: x. From version 0.12, the only valid positional argument will be `data`, and passing other arguments without an explicit keyword will result in an error or misinterpretation.\n",
      "  warnings.warn(\n"
     ]
    },
    {
     "data": {
      "text/plain": [
       "<AxesSubplot:xlabel='cancelamento', ylabel='count'>"
      ]
     },
     "execution_count": 41,
     "metadata": {},
     "output_type": "execute_result"
    },
    {
     "data": {
      "image/png": "[encoded data removed]",
      "text/plain": [
       "<Figure size 1080x360 with 1 Axes>"
      ]
     },
     "metadata": {},
     "output_type": "display_data"
    }
   ],
   "source": [
    "tabela_cancellation = base['cancelamento'].value_counts()\n",
    "colunas_agrupar = []\n",
    "for tipo in tabela_cancellation.index:\n",
    "    if tabela_cancellation[tipo] < 12000:\n",
    "        colunas_agrupar.append(tipo)\n",
    "print(colunas_agrupar)\n",
    "\n",
    "for tipo in colunas_agrupar:\n",
    "    base.loc[base['cancelamento']==tipo,'cancelamento'] = 'strict'\n",
    "print(base['cancelamento'].value_counts())\n",
    "\n",
    "plt.figure(figsize = (15,5))\n",
    "sns.countplot('cancelamento',data = base)\n"
   ]
  },
  {
   "cell_type": "code",
   "execution_count": 43,
   "id": "7bf0efbf",
   "metadata": {
    "hidden": true
   },
   "outputs": [
    {
     "ename": "KeyError",
     "evalue": "'amenities'",
     "output_type": "error",
     "traceback": [
      "\u001b[1;31m---------------------------------------------------------------------------\u001b[0m",
      "\u001b[1;31mKeyError\u001b[0m                                  Traceback (most recent call last)",
      "File \u001b[1;32m~\\anaconda3\\lib\\site-packages\\pandas\\core\\indexes\\base.py:3621\u001b[0m, in \u001b[0;36mIndex.get_loc\u001b[1;34m(self, key, method, tolerance)\u001b[0m\n\u001b[0;32m   3620\u001b[0m \u001b[38;5;28;01mtry\u001b[39;00m:\n\u001b[1;32m-> 3621\u001b[0m     \u001b[38;5;28;01mreturn\u001b[39;00m \u001b[38;5;28;43mself\u001b[39;49m\u001b[38;5;241;43m.\u001b[39;49m\u001b[43m_engine\u001b[49m\u001b[38;5;241;43m.\u001b[39;49m\u001b[43mget_loc\u001b[49m\u001b[43m(\u001b[49m\u001b[43mcasted_key\u001b[49m\u001b[43m)\u001b[49m\n\u001b[0;32m   3622\u001b[0m \u001b[38;5;28;01mexcept\u001b[39;00m \u001b[38;5;167;01mKeyError\u001b[39;00m \u001b[38;5;28;01mas\u001b[39;00m err:\n",
      "File \u001b[1;32m~\\anaconda3\\lib\\site-packages\\pandas\\_libs\\index.pyx:136\u001b[0m, in \u001b[0;36mpandas._libs.index.IndexEngine.get_loc\u001b[1;34m()\u001b[0m\n",
      "File \u001b[1;32m~\\anaconda3\\lib\\site-packages\\pandas\\_libs\\index.pyx:163\u001b[0m, in \u001b[0;36mpandas._libs.index.IndexEngine.get_loc\u001b[1;34m()\u001b[0m\n",
      "File \u001b[1;32mpandas\\_libs\\hashtable_class_helper.pxi:5198\u001b[0m, in \u001b[0;36mpandas._libs.hashtable.PyObjectHashTable.get_item\u001b[1;34m()\u001b[0m\n",
      "File \u001b[1;32mpandas\\_libs\\hashtable_class_helper.pxi:5206\u001b[0m, in \u001b[0;36mpandas._libs.hashtable.PyObjectHashTable.get_item\u001b[1;34m()\u001b[0m\n",
      "\u001b[1;31mKeyError\u001b[0m: 'amenities'",
      "\nThe above exception was the direct cause of the following exception:\n",
      "\u001b[1;31mKeyError\u001b[0m                                  Traceback (most recent call last)",
      "Input \u001b[1;32mIn [43]\u001b[0m, in \u001b[0;36m<cell line: 4>\u001b[1;34m()\u001b[0m\n\u001b[0;32m      1\u001b[0m \u001b[38;5;66;03m#amenities é um lista separada por virgula\u001b[39;00m\n\u001b[0;32m      2\u001b[0m \u001b[38;5;66;03m#criar uma coluna com quantidades de amenities (generalizar)\u001b[39;00m\n\u001b[0;32m      3\u001b[0m \u001b[38;5;66;03m# devido a diversidade do amenities  nesse projeto nao será utilazada!!!!!\u001b[39;00m\n\u001b[1;32m----> 4\u001b[0m \u001b[38;5;28mprint\u001b[39m(\u001b[43mbase\u001b[49m\u001b[43m[\u001b[49m\u001b[38;5;124;43m'\u001b[39;49m\u001b[38;5;124;43mamenities\u001b[39;49m\u001b[38;5;124;43m'\u001b[39;49m\u001b[43m]\u001b[49m\u001b[38;5;241m.\u001b[39miloc[\u001b[38;5;241m0\u001b[39m]\u001b[38;5;241m.\u001b[39msplit(\u001b[38;5;124m'\u001b[39m\u001b[38;5;124m,\u001b[39m\u001b[38;5;124m'\u001b[39m))\n\u001b[0;32m      5\u001b[0m \u001b[38;5;28mprint\u001b[39m(\u001b[38;5;28mlen\u001b[39m(base[\u001b[38;5;124m'\u001b[39m\u001b[38;5;124mamenities\u001b[39m\u001b[38;5;124m'\u001b[39m]\u001b[38;5;241m.\u001b[39miloc[\u001b[38;5;241m2\u001b[39m]\u001b[38;5;241m.\u001b[39msplit(\u001b[38;5;124m'\u001b[39m\u001b[38;5;124m,\u001b[39m\u001b[38;5;124m'\u001b[39m)))\n",
      "File \u001b[1;32m~\\anaconda3\\lib\\site-packages\\pandas\\core\\frame.py:3505\u001b[0m, in \u001b[0;36mDataFrame.__getitem__\u001b[1;34m(self, key)\u001b[0m\n\u001b[0;32m   3503\u001b[0m \u001b[38;5;28;01mif\u001b[39;00m \u001b[38;5;28mself\u001b[39m\u001b[38;5;241m.\u001b[39mcolumns\u001b[38;5;241m.\u001b[39mnlevels \u001b[38;5;241m>\u001b[39m \u001b[38;5;241m1\u001b[39m:\n\u001b[0;32m   3504\u001b[0m     \u001b[38;5;28;01mreturn\u001b[39;00m \u001b[38;5;28mself\u001b[39m\u001b[38;5;241m.\u001b[39m_getitem_multilevel(key)\n\u001b[1;32m-> 3505\u001b[0m indexer \u001b[38;5;241m=\u001b[39m \u001b[38;5;28;43mself\u001b[39;49m\u001b[38;5;241;43m.\u001b[39;49m\u001b[43mcolumns\u001b[49m\u001b[38;5;241;43m.\u001b[39;49m\u001b[43mget_loc\u001b[49m\u001b[43m(\u001b[49m\u001b[43mkey\u001b[49m\u001b[43m)\u001b[49m\n\u001b[0;32m   3506\u001b[0m \u001b[38;5;28;01mif\u001b[39;00m is_integer(indexer):\n\u001b[0;32m   3507\u001b[0m     indexer \u001b[38;5;241m=\u001b[39m [indexer]\n",
      "File \u001b[1;32m~\\anaconda3\\lib\\site-packages\\pandas\\core\\indexes\\base.py:3623\u001b[0m, in \u001b[0;36mIndex.get_loc\u001b[1;34m(self, key, method, tolerance)\u001b[0m\n\u001b[0;32m   3621\u001b[0m     \u001b[38;5;28;01mreturn\u001b[39;00m \u001b[38;5;28mself\u001b[39m\u001b[38;5;241m.\u001b[39m_engine\u001b[38;5;241m.\u001b[39mget_loc(casted_key)\n\u001b[0;32m   3622\u001b[0m \u001b[38;5;28;01mexcept\u001b[39;00m \u001b[38;5;167;01mKeyError\u001b[39;00m \u001b[38;5;28;01mas\u001b[39;00m err:\n\u001b[1;32m-> 3623\u001b[0m     \u001b[38;5;28;01mraise\u001b[39;00m \u001b[38;5;167;01mKeyError\u001b[39;00m(key) \u001b[38;5;28;01mfrom\u001b[39;00m \u001b[38;5;21;01merr\u001b[39;00m\n\u001b[0;32m   3624\u001b[0m \u001b[38;5;28;01mexcept\u001b[39;00m \u001b[38;5;167;01mTypeError\u001b[39;00m:\n\u001b[0;32m   3625\u001b[0m     \u001b[38;5;66;03m# If we have a listlike key, _check_indexing_error will raise\u001b[39;00m\n\u001b[0;32m   3626\u001b[0m     \u001b[38;5;66;03m#  InvalidIndexError. Otherwise we fall through and re-raise\u001b[39;00m\n\u001b[0;32m   3627\u001b[0m     \u001b[38;5;66;03m#  the TypeError.\u001b[39;00m\n\u001b[0;32m   3628\u001b[0m     \u001b[38;5;28mself\u001b[39m\u001b[38;5;241m.\u001b[39m_check_indexing_error(key)\n",
      "\u001b[1;31mKeyError\u001b[0m: 'amenities'"
     ]
    }
   ],
   "source": [
    "#amenities é um lista separada por virgula\n",
    "#criar uma coluna com quantidades de amenities (generalizar)\n",
    "# devido a diversidade do amenities  nesse projeto nao será utilazada!!!!!\n",
    "#print(base['amenities'].iloc[0].split(','))\n",
    "#print(len(base['amenities'].iloc[2].split(',')))\n",
    "\n",
    "#base['n_amenities'] = base['amenities'].str.split(',').apply(len)\n",
    "#base = base.drop('amenities',axis = 1)"
   ]
  },
  {
   "cell_type": "code",
   "execution_count": 44,
   "id": "1823e520",
   "metadata": {
    "hidden": true
   },
   "outputs": [
    {
     "name": "stdout",
     "output_type": "stream",
     "text": [
      "18600\n"
     ]
    },
    {
     "data": {
      "image/png": "[encoded data removed]",
      "text/plain": [
       "<Figure size 460.8x403.2 with 1 Axes>"
      ]
     },
     "metadata": {},
     "output_type": "display_data"
    },
    {
     "data": {
      "image/png": "[encoded data removed]",
      "text/plain": [
       "<Figure size 1080x360 with 1 Axes>"
      ]
     },
     "metadata": {},
     "output_type": "display_data"
    }
   ],
   "source": [
    "base,linhas_removidas = tratar_outliers(base,'n_amenities')\n",
    "print(linhas_removidas)\n",
    "box_plot(base['n_amenities'])\n",
    "grafico_barra(base['n_amenities'])"
   ]
  },
  {
   "cell_type": "markdown",
   "id": "6df38944",
   "metadata": {
    "heading_collapsed": true
   },
   "source": [
    "# Encoding \n",
    "para previsão dos modelos teremos que transformar textos em numeros \n",
    "temos colunas de categorias( informações de texto) e verdadeiro ou falso\n",
    "True or false = 1 e 0 \n",
    "Textos = encoding de variaveis dummies\n"
   ]
  },
  {
   "cell_type": "markdown",
   "id": "e4193301",
   "metadata": {
    "hidden": true
   },
   "source": [
    "### True and false"
   ]
  },
  {
   "cell_type": "code",
   "execution_count": 45,
   "id": "f5b4f06a",
   "metadata": {
    "hidden": true,
    "scrolled": true
   },
   "outputs": [
    {
     "name": "stdout",
     "output_type": "stream",
     "text": [
      "perfil_verificado                    0\n",
      "neighbourhood               Copacabana\n",
      "latitude                    -22.965919\n",
      "longitude                   -43.178962\n",
      "tipo_propriedade           Condominium\n",
      "tipo_quarto            Entire home/apt\n",
      "acomodacoes                          5\n",
      "banheiros                          1.0\n",
      "quartos                            2.0\n",
      "camas                              2.0\n",
      "tipo_cama                     Real Bed\n",
      "preco                            270.0\n",
      "pessoas_extra                     51.0\n",
      "noites_min                           4\n",
      "reserva_instantanea                  1\n",
      "viagens_negocio                      0\n",
      "cancelamento                    strict\n",
      "mes                                  4\n",
      "ano                               2018\n",
      "n_amenities                         25\n",
      "Name: 1, dtype: object\n"
     ]
    }
   ],
   "source": [
    "colunas_tf = ['perfil_verificado','reserva_instantanea','viagens_negocio']\n",
    "base_cod = base.copy()\n",
    "for coluna in colunas_tf:\n",
    "    base_cod.loc[base_cod[coluna]=='t',coluna] = 1\n",
    "    base_cod.loc[base_cod[coluna]=='f',coluna] = 0\n",
    "print(base_cod.iloc[0])"
   ]
  },
  {
   "cell_type": "code",
   "execution_count": 46,
   "id": "fd33f997",
   "metadata": {
    "hidden": true
   },
   "outputs": [
    {
     "data": {
      "text/html": [
       "<div>\n",
       "<style scoped>\n",
       "    .dataframe tbody tr th:only-of-type {\n",
       "        vertical-align: middle;\n",
       "    }\n",
       "\n",
       "    .dataframe tbody tr th {\n",
       "        vertical-align: top;\n",
       "    }\n",
       "\n",
       "    .dataframe thead th {\n",
       "        text-align: right;\n",
       "    }\n",
       "</style>\n",
       "<table border=\"1\" class=\"dataframe\">\n",
       "  <thead>\n",
       "    <tr style=\"text-align: right;\">\n",
       "      <th></th>\n",
       "      <th>perfil_verificado</th>\n",
       "      <th>neighbourhood</th>\n",
       "      <th>latitude</th>\n",
       "      <th>longitude</th>\n",
       "      <th>tipo_propriedade</th>\n",
       "      <th>tipo_quarto</th>\n",
       "      <th>acomodacoes</th>\n",
       "      <th>banheiros</th>\n",
       "      <th>quartos</th>\n",
       "      <th>camas</th>\n",
       "      <th>tipo_cama</th>\n",
       "      <th>preco</th>\n",
       "      <th>pessoas_extra</th>\n",
       "      <th>noites_min</th>\n",
       "      <th>reserva_instantanea</th>\n",
       "      <th>viagens_negocio</th>\n",
       "      <th>cancelamento</th>\n",
       "      <th>mes</th>\n",
       "      <th>ano</th>\n",
       "      <th>n_amenities</th>\n",
       "    </tr>\n",
       "  </thead>\n",
       "  <tbody>\n",
       "    <tr>\n",
       "      <th>1</th>\n",
       "      <td>0</td>\n",
       "      <td>Copacabana</td>\n",
       "      <td>-22.965919</td>\n",
       "      <td>-43.178962</td>\n",
       "      <td>Condominium</td>\n",
       "      <td>Entire home/apt</td>\n",
       "      <td>5</td>\n",
       "      <td>1.0</td>\n",
       "      <td>2.0</td>\n",
       "      <td>2.0</td>\n",
       "      <td>Real Bed</td>\n",
       "      <td>270.0</td>\n",
       "      <td>51.0</td>\n",
       "      <td>4</td>\n",
       "      <td>1</td>\n",
       "      <td>0</td>\n",
       "      <td>strict</td>\n",
       "      <td>4</td>\n",
       "      <td>2018</td>\n",
       "      <td>25</td>\n",
       "    </tr>\n",
       "    <tr>\n",
       "      <th>3</th>\n",
       "      <td>1</td>\n",
       "      <td>Copacabana</td>\n",
       "      <td>-22.977117</td>\n",
       "      <td>-43.190454</td>\n",
       "      <td>Apartment</td>\n",
       "      <td>Entire home/apt</td>\n",
       "      <td>3</td>\n",
       "      <td>1.0</td>\n",
       "      <td>1.0</td>\n",
       "      <td>2.0</td>\n",
       "      <td>Real Bed</td>\n",
       "      <td>161.0</td>\n",
       "      <td>45.0</td>\n",
       "      <td>4</td>\n",
       "      <td>0</td>\n",
       "      <td>0</td>\n",
       "      <td>strict</td>\n",
       "      <td>4</td>\n",
       "      <td>2018</td>\n",
       "      <td>14</td>\n",
       "    </tr>\n",
       "    <tr>\n",
       "      <th>4</th>\n",
       "      <td>1</td>\n",
       "      <td>Ipanema</td>\n",
       "      <td>-22.983024</td>\n",
       "      <td>-43.214270</td>\n",
       "      <td>Apartment</td>\n",
       "      <td>Entire home/apt</td>\n",
       "      <td>3</td>\n",
       "      <td>1.0</td>\n",
       "      <td>1.0</td>\n",
       "      <td>2.0</td>\n",
       "      <td>Real Bed</td>\n",
       "      <td>222.0</td>\n",
       "      <td>68.0</td>\n",
       "      <td>2</td>\n",
       "      <td>1</td>\n",
       "      <td>0</td>\n",
       "      <td>strict</td>\n",
       "      <td>4</td>\n",
       "      <td>2018</td>\n",
       "      <td>16</td>\n",
       "    </tr>\n",
       "    <tr>\n",
       "      <th>5</th>\n",
       "      <td>1</td>\n",
       "      <td>Ipanema</td>\n",
       "      <td>-22.988165</td>\n",
       "      <td>-43.193588</td>\n",
       "      <td>Apartment</td>\n",
       "      <td>Entire home/apt</td>\n",
       "      <td>3</td>\n",
       "      <td>1.5</td>\n",
       "      <td>1.0</td>\n",
       "      <td>2.0</td>\n",
       "      <td>Real Bed</td>\n",
       "      <td>308.0</td>\n",
       "      <td>86.0</td>\n",
       "      <td>2</td>\n",
       "      <td>0</td>\n",
       "      <td>0</td>\n",
       "      <td>strict</td>\n",
       "      <td>4</td>\n",
       "      <td>2018</td>\n",
       "      <td>30</td>\n",
       "    </tr>\n",
       "    <tr>\n",
       "      <th>6</th>\n",
       "      <td>1</td>\n",
       "      <td>Copacabana</td>\n",
       "      <td>-22.981269</td>\n",
       "      <td>-43.190457</td>\n",
       "      <td>Loft</td>\n",
       "      <td>Entire home/apt</td>\n",
       "      <td>2</td>\n",
       "      <td>1.0</td>\n",
       "      <td>1.0</td>\n",
       "      <td>2.0</td>\n",
       "      <td>Real Bed</td>\n",
       "      <td>219.0</td>\n",
       "      <td>80.0</td>\n",
       "      <td>3</td>\n",
       "      <td>1</td>\n",
       "      <td>0</td>\n",
       "      <td>strict</td>\n",
       "      <td>4</td>\n",
       "      <td>2018</td>\n",
       "      <td>30</td>\n",
       "    </tr>\n",
       "    <tr>\n",
       "      <th>...</th>\n",
       "      <td>...</td>\n",
       "      <td>...</td>\n",
       "      <td>...</td>\n",
       "      <td>...</td>\n",
       "      <td>...</td>\n",
       "      <td>...</td>\n",
       "      <td>...</td>\n",
       "      <td>...</td>\n",
       "      <td>...</td>\n",
       "      <td>...</td>\n",
       "      <td>...</td>\n",
       "      <td>...</td>\n",
       "      <td>...</td>\n",
       "      <td>...</td>\n",
       "      <td>...</td>\n",
       "      <td>...</td>\n",
       "      <td>...</td>\n",
       "      <td>...</td>\n",
       "      <td>...</td>\n",
       "      <td>...</td>\n",
       "    </tr>\n",
       "    <tr>\n",
       "      <th>34324</th>\n",
       "      <td>0</td>\n",
       "      <td>Barra da Tijuca</td>\n",
       "      <td>-23.003180</td>\n",
       "      <td>-43.342840</td>\n",
       "      <td>Apartment</td>\n",
       "      <td>Entire home/apt</td>\n",
       "      <td>4</td>\n",
       "      <td>1.0</td>\n",
       "      <td>0.0</td>\n",
       "      <td>2.0</td>\n",
       "      <td>Real Bed</td>\n",
       "      <td>121.0</td>\n",
       "      <td>50.0</td>\n",
       "      <td>1</td>\n",
       "      <td>0</td>\n",
       "      <td>0</td>\n",
       "      <td>flexible</td>\n",
       "      <td>9</td>\n",
       "      <td>2019</td>\n",
       "      <td>18</td>\n",
       "    </tr>\n",
       "    <tr>\n",
       "      <th>34325</th>\n",
       "      <td>0</td>\n",
       "      <td>Barra da Tijuca</td>\n",
       "      <td>-22.966640</td>\n",
       "      <td>-43.393450</td>\n",
       "      <td>Apartment</td>\n",
       "      <td>Entire home/apt</td>\n",
       "      <td>4</td>\n",
       "      <td>2.0</td>\n",
       "      <td>2.0</td>\n",
       "      <td>3.0</td>\n",
       "      <td>Real Bed</td>\n",
       "      <td>799.0</td>\n",
       "      <td>0.0</td>\n",
       "      <td>2</td>\n",
       "      <td>0</td>\n",
       "      <td>0</td>\n",
       "      <td>flexible</td>\n",
       "      <td>9</td>\n",
       "      <td>2019</td>\n",
       "      <td>12</td>\n",
       "    </tr>\n",
       "    <tr>\n",
       "      <th>34326</th>\n",
       "      <td>1</td>\n",
       "      <td>Copacabana</td>\n",
       "      <td>-22.962080</td>\n",
       "      <td>-43.175520</td>\n",
       "      <td>Apartment</td>\n",
       "      <td>Entire home/apt</td>\n",
       "      <td>5</td>\n",
       "      <td>1.0</td>\n",
       "      <td>1.0</td>\n",
       "      <td>2.0</td>\n",
       "      <td>Real Bed</td>\n",
       "      <td>420.0</td>\n",
       "      <td>30.0</td>\n",
       "      <td>3</td>\n",
       "      <td>0</td>\n",
       "      <td>0</td>\n",
       "      <td>strict_14_with_grace_period</td>\n",
       "      <td>9</td>\n",
       "      <td>2019</td>\n",
       "      <td>9</td>\n",
       "    </tr>\n",
       "    <tr>\n",
       "      <th>34327</th>\n",
       "      <td>1</td>\n",
       "      <td>Barra da Tijuca</td>\n",
       "      <td>-23.003400</td>\n",
       "      <td>-43.341820</td>\n",
       "      <td>Apartment</td>\n",
       "      <td>Entire home/apt</td>\n",
       "      <td>4</td>\n",
       "      <td>1.0</td>\n",
       "      <td>1.0</td>\n",
       "      <td>1.0</td>\n",
       "      <td>Real Bed</td>\n",
       "      <td>250.0</td>\n",
       "      <td>0.0</td>\n",
       "      <td>1</td>\n",
       "      <td>0</td>\n",
       "      <td>0</td>\n",
       "      <td>strict_14_with_grace_period</td>\n",
       "      <td>9</td>\n",
       "      <td>2019</td>\n",
       "      <td>25</td>\n",
       "    </tr>\n",
       "    <tr>\n",
       "      <th>34328</th>\n",
       "      <td>0</td>\n",
       "      <td>Barra da Tijuca</td>\n",
       "      <td>-23.010560</td>\n",
       "      <td>-43.363350</td>\n",
       "      <td>Apartment</td>\n",
       "      <td>Private room</td>\n",
       "      <td>2</td>\n",
       "      <td>0.0</td>\n",
       "      <td>1.0</td>\n",
       "      <td>1.0</td>\n",
       "      <td>Real Bed</td>\n",
       "      <td>92.0</td>\n",
       "      <td>80.0</td>\n",
       "      <td>1</td>\n",
       "      <td>0</td>\n",
       "      <td>0</td>\n",
       "      <td>strict_14_with_grace_period</td>\n",
       "      <td>9</td>\n",
       "      <td>2019</td>\n",
       "      <td>17</td>\n",
       "    </tr>\n",
       "  </tbody>\n",
       "</table>\n",
       "<p>608279 rows × 20 columns</p>\n",
       "</div>"
      ],
      "text/plain": [
       "      perfil_verificado    neighbourhood   latitude  longitude  \\\n",
       "1                     0       Copacabana -22.965919 -43.178962   \n",
       "3                     1       Copacabana -22.977117 -43.190454   \n",
       "4                     1          Ipanema -22.983024 -43.214270   \n",
       "5                     1          Ipanema -22.988165 -43.193588   \n",
       "6                     1       Copacabana -22.981269 -43.190457   \n",
       "...                 ...              ...        ...        ...   \n",
       "34324                 0  Barra da Tijuca -23.003180 -43.342840   \n",
       "34325                 0  Barra da Tijuca -22.966640 -43.393450   \n",
       "34326                 1       Copacabana -22.962080 -43.175520   \n",
       "34327                 1  Barra da Tijuca -23.003400 -43.341820   \n",
       "34328                 0  Barra da Tijuca -23.010560 -43.363350   \n",
       "\n",
       "      tipo_propriedade      tipo_quarto  acomodacoes  banheiros  quartos  \\\n",
       "1          Condominium  Entire home/apt            5        1.0      2.0   \n",
       "3            Apartment  Entire home/apt            3        1.0      1.0   \n",
       "4            Apartment  Entire home/apt            3        1.0      1.0   \n",
       "5            Apartment  Entire home/apt            3        1.5      1.0   \n",
       "6                 Loft  Entire home/apt            2        1.0      1.0   \n",
       "...                ...              ...          ...        ...      ...   \n",
       "34324        Apartment  Entire home/apt            4        1.0      0.0   \n",
       "34325        Apartment  Entire home/apt            4        2.0      2.0   \n",
       "34326        Apartment  Entire home/apt            5        1.0      1.0   \n",
       "34327        Apartment  Entire home/apt            4        1.0      1.0   \n",
       "34328        Apartment     Private room            2        0.0      1.0   \n",
       "\n",
       "       camas tipo_cama  preco  pessoas_extra  noites_min reserva_instantanea  \\\n",
       "1        2.0  Real Bed  270.0           51.0           4                   1   \n",
       "3        2.0  Real Bed  161.0           45.0           4                   0   \n",
       "4        2.0  Real Bed  222.0           68.0           2                   1   \n",
       "5        2.0  Real Bed  308.0           86.0           2                   0   \n",
       "6        2.0  Real Bed  219.0           80.0           3                   1   \n",
       "...      ...       ...    ...            ...         ...                 ...   \n",
       "34324    2.0  Real Bed  121.0           50.0           1                   0   \n",
       "34325    3.0  Real Bed  799.0            0.0           2                   0   \n",
       "34326    2.0  Real Bed  420.0           30.0           3                   0   \n",
       "34327    1.0  Real Bed  250.0            0.0           1                   0   \n",
       "34328    1.0  Real Bed   92.0           80.0           1                   0   \n",
       "\n",
       "      viagens_negocio                 cancelamento  mes   ano  n_amenities  \n",
       "1                   0                       strict    4  2018           25  \n",
       "3                   0                       strict    4  2018           14  \n",
       "4                   0                       strict    4  2018           16  \n",
       "5                   0                       strict    4  2018           30  \n",
       "6                   0                       strict    4  2018           30  \n",
       "...               ...                          ...  ...   ...          ...  \n",
       "34324               0                     flexible    9  2019           18  \n",
       "34325               0                     flexible    9  2019           12  \n",
       "34326               0  strict_14_with_grace_period    9  2019            9  \n",
       "34327               0  strict_14_with_grace_period    9  2019           25  \n",
       "34328               0  strict_14_with_grace_period    9  2019           17  \n",
       "\n",
       "[608279 rows x 20 columns]"
      ]
     },
     "metadata": {},
     "output_type": "display_data"
    },
    {
     "name": "stdout",
     "output_type": "stream",
     "text": [
      "None\n"
     ]
    }
   ],
   "source": [
    "print(display(base_cod))"
   ]
  },
  {
   "cell_type": "markdown",
   "id": "5d0a9c56",
   "metadata": {
    "hidden": true
   },
   "source": [
    "### Categorias"
   ]
  },
  {
   "cell_type": "code",
   "execution_count": 47,
   "id": "a920cb00",
   "metadata": {
    "hidden": true
   },
   "outputs": [
    {
     "data": {
      "text/html": [
       "<div>\n",
       "<style scoped>\n",
       "    .dataframe tbody tr th:only-of-type {\n",
       "        vertical-align: middle;\n",
       "    }\n",
       "\n",
       "    .dataframe tbody tr th {\n",
       "        vertical-align: top;\n",
       "    }\n",
       "\n",
       "    .dataframe thead th {\n",
       "        text-align: right;\n",
       "    }\n",
       "</style>\n",
       "<table border=\"1\" class=\"dataframe\">\n",
       "  <thead>\n",
       "    <tr style=\"text-align: right;\">\n",
       "      <th></th>\n",
       "      <th>perfil_verificado</th>\n",
       "      <th>latitude</th>\n",
       "      <th>longitude</th>\n",
       "      <th>acomodacoes</th>\n",
       "      <th>banheiros</th>\n",
       "      <th>quartos</th>\n",
       "      <th>camas</th>\n",
       "      <th>preco</th>\n",
       "      <th>pessoas_extra</th>\n",
       "      <th>noites_min</th>\n",
       "      <th>...</th>\n",
       "      <th>tipo_quarto_Shared room</th>\n",
       "      <th>tipo_cama_Airbed</th>\n",
       "      <th>tipo_cama_Couch</th>\n",
       "      <th>tipo_cama_Futon</th>\n",
       "      <th>tipo_cama_Pull-out Sofa</th>\n",
       "      <th>tipo_cama_Real Bed</th>\n",
       "      <th>cancelamento_flexible</th>\n",
       "      <th>cancelamento_moderate</th>\n",
       "      <th>cancelamento_strict</th>\n",
       "      <th>cancelamento_strict_14_with_grace_period</th>\n",
       "    </tr>\n",
       "  </thead>\n",
       "  <tbody>\n",
       "    <tr>\n",
       "      <th>1</th>\n",
       "      <td>0</td>\n",
       "      <td>-22.965919</td>\n",
       "      <td>-43.178962</td>\n",
       "      <td>5</td>\n",
       "      <td>1.0</td>\n",
       "      <td>2.0</td>\n",
       "      <td>2.0</td>\n",
       "      <td>270.0</td>\n",
       "      <td>51.0</td>\n",
       "      <td>4</td>\n",
       "      <td>...</td>\n",
       "      <td>0</td>\n",
       "      <td>0</td>\n",
       "      <td>0</td>\n",
       "      <td>0</td>\n",
       "      <td>0</td>\n",
       "      <td>1</td>\n",
       "      <td>0</td>\n",
       "      <td>0</td>\n",
       "      <td>1</td>\n",
       "      <td>0</td>\n",
       "    </tr>\n",
       "    <tr>\n",
       "      <th>3</th>\n",
       "      <td>1</td>\n",
       "      <td>-22.977117</td>\n",
       "      <td>-43.190454</td>\n",
       "      <td>3</td>\n",
       "      <td>1.0</td>\n",
       "      <td>1.0</td>\n",
       "      <td>2.0</td>\n",
       "      <td>161.0</td>\n",
       "      <td>45.0</td>\n",
       "      <td>4</td>\n",
       "      <td>...</td>\n",
       "      <td>0</td>\n",
       "      <td>0</td>\n",
       "      <td>0</td>\n",
       "      <td>0</td>\n",
       "      <td>0</td>\n",
       "      <td>1</td>\n",
       "      <td>0</td>\n",
       "      <td>0</td>\n",
       "      <td>1</td>\n",
       "      <td>0</td>\n",
       "    </tr>\n",
       "    <tr>\n",
       "      <th>4</th>\n",
       "      <td>1</td>\n",
       "      <td>-22.983024</td>\n",
       "      <td>-43.214270</td>\n",
       "      <td>3</td>\n",
       "      <td>1.0</td>\n",
       "      <td>1.0</td>\n",
       "      <td>2.0</td>\n",
       "      <td>222.0</td>\n",
       "      <td>68.0</td>\n",
       "      <td>2</td>\n",
       "      <td>...</td>\n",
       "      <td>0</td>\n",
       "      <td>0</td>\n",
       "      <td>0</td>\n",
       "      <td>0</td>\n",
       "      <td>0</td>\n",
       "      <td>1</td>\n",
       "      <td>0</td>\n",
       "      <td>0</td>\n",
       "      <td>1</td>\n",
       "      <td>0</td>\n",
       "    </tr>\n",
       "    <tr>\n",
       "      <th>5</th>\n",
       "      <td>1</td>\n",
       "      <td>-22.988165</td>\n",
       "      <td>-43.193588</td>\n",
       "      <td>3</td>\n",
       "      <td>1.5</td>\n",
       "      <td>1.0</td>\n",
       "      <td>2.0</td>\n",
       "      <td>308.0</td>\n",
       "      <td>86.0</td>\n",
       "      <td>2</td>\n",
       "      <td>...</td>\n",
       "      <td>0</td>\n",
       "      <td>0</td>\n",
       "      <td>0</td>\n",
       "      <td>0</td>\n",
       "      <td>0</td>\n",
       "      <td>1</td>\n",
       "      <td>0</td>\n",
       "      <td>0</td>\n",
       "      <td>1</td>\n",
       "      <td>0</td>\n",
       "    </tr>\n",
       "    <tr>\n",
       "      <th>6</th>\n",
       "      <td>1</td>\n",
       "      <td>-22.981269</td>\n",
       "      <td>-43.190457</td>\n",
       "      <td>2</td>\n",
       "      <td>1.0</td>\n",
       "      <td>1.0</td>\n",
       "      <td>2.0</td>\n",
       "      <td>219.0</td>\n",
       "      <td>80.0</td>\n",
       "      <td>3</td>\n",
       "      <td>...</td>\n",
       "      <td>0</td>\n",
       "      <td>0</td>\n",
       "      <td>0</td>\n",
       "      <td>0</td>\n",
       "      <td>0</td>\n",
       "      <td>1</td>\n",
       "      <td>0</td>\n",
       "      <td>0</td>\n",
       "      <td>1</td>\n",
       "      <td>0</td>\n",
       "    </tr>\n",
       "  </tbody>\n",
       "</table>\n",
       "<p>5 rows × 37 columns</p>\n",
       "</div>"
      ],
      "text/plain": [
       "  perfil_verificado   latitude  longitude  acomodacoes  banheiros  quartos  \\\n",
       "1                 0 -22.965919 -43.178962            5        1.0      2.0   \n",
       "3                 1 -22.977117 -43.190454            3        1.0      1.0   \n",
       "4                 1 -22.983024 -43.214270            3        1.0      1.0   \n",
       "5                 1 -22.988165 -43.193588            3        1.5      1.0   \n",
       "6                 1 -22.981269 -43.190457            2        1.0      1.0   \n",
       "\n",
       "   camas  preco  pessoas_extra  noites_min  ... tipo_quarto_Shared room  \\\n",
       "1    2.0  270.0           51.0           4  ...                       0   \n",
       "3    2.0  161.0           45.0           4  ...                       0   \n",
       "4    2.0  222.0           68.0           2  ...                       0   \n",
       "5    2.0  308.0           86.0           2  ...                       0   \n",
       "6    2.0  219.0           80.0           3  ...                       0   \n",
       "\n",
       "  tipo_cama_Airbed  tipo_cama_Couch tipo_cama_Futon  tipo_cama_Pull-out Sofa  \\\n",
       "1                0                0               0                        0   \n",
       "3                0                0               0                        0   \n",
       "4                0                0               0                        0   \n",
       "5                0                0               0                        0   \n",
       "6                0                0               0                        0   \n",
       "\n",
       "   tipo_cama_Real Bed  cancelamento_flexible  cancelamento_moderate  \\\n",
       "1                   1                      0                      0   \n",
       "3                   1                      0                      0   \n",
       "4                   1                      0                      0   \n",
       "5                   1                      0                      0   \n",
       "6                   1                      0                      0   \n",
       "\n",
       "   cancelamento_strict  cancelamento_strict_14_with_grace_period  \n",
       "1                    1                                         0  \n",
       "3                    1                                         0  \n",
       "4                    1                                         0  \n",
       "5                    1                                         0  \n",
       "6                    1                                         0  \n",
       "\n",
       "[5 rows x 37 columns]"
      ]
     },
     "metadata": {},
     "output_type": "display_data"
    }
   ],
   "source": [
    "colunas_categorias = ['tipo_propriedade', 'tipo_quarto', 'tipo_cama', 'cancelamento']\n",
    "base_cod = pd.get_dummies(data = base_cod,columns = colunas_categorias)\n",
    "\n",
    "base_cod = base_cod.drop('neighbourhood',axis = 1)\n",
    "\n",
    "\n",
    "\n",
    "display(base_cod.head())\n",
    "\n"
   ]
  },
  {
   "cell_type": "markdown",
   "id": "887a5d9a",
   "metadata": {
    "heading_collapsed": true
   },
   "source": [
    "# Modelo de previsão"
   ]
  },
  {
   "cell_type": "markdown",
   "id": "e86b890d",
   "metadata": {
    "hidden": true
   },
   "source": [
    "### Qual melhor modelo"
   ]
  },
  {
   "cell_type": "code",
   "execution_count": 48,
   "id": "c40affcf",
   "metadata": {
    "hidden": true
   },
   "outputs": [],
   "source": [
    "\n",
    "#funcao metodo de avaliacao r2 e rsme\n",
    "def avaliar_modelo(nome_modelo, y_teste, previsao):\n",
    "    r2 =r2_score(y_test,previsao)\n",
    "    rsme = np.sqrt(mean_squared_error(y_teste,previsao))\n",
    "    return f'{nome_modelo}===== valor r2: {r2},====valor rsme{rsme}'"
   ]
  },
  {
   "cell_type": "markdown",
   "id": "9bb3f0af",
   "metadata": {
    "hidden": true
   },
   "source": [
    "escolha dos modelos e separaçao das variaveis \n",
    "-random forest\n",
    "-linear regression\n",
    "-extra tree"
   ]
  },
  {
   "cell_type": "code",
   "execution_count": 50,
   "id": "bbabe71b",
   "metadata": {
    "hidden": true
   },
   "outputs": [],
   "source": [
    "modelo_lr = LinearRegression()\n",
    "modelo_rf = RandomForestRegressor()\n",
    "modelo_et = ExtraTreesRegressor()\n",
    "\n",
    "modelos = {'RadomForest':modelo_rf,\n",
    "          'LinearRegression':modelo_lr,\n",
    "          'ExtraTrees':modelo_et,}\n",
    "\n",
    "y = base_cod['preco']\n",
    "x = base_cod.drop('preco',axis = 1)"
   ]
  },
  {
   "cell_type": "code",
   "execution_count": 51,
   "id": "6ac3f0f1",
   "metadata": {
    "hidden": true
   },
   "outputs": [
    {
     "name": "stdout",
     "output_type": "stream",
     "text": [
      "RadomForest===== valor r2: 0.9668364082528756,====valor rsme47.62231887005526\n",
      "LinearRegression===== valor r2: 0.3235297488272284,====valor rsme215.08202159266082\n",
      "ExtraTrees===== valor r2: 0.9691960263836285,====valor rsme45.89687641226177\n"
     ]
    }
   ],
   "source": [
    "x_train,x_test,y_train,y_test = train_test_split(x,y,random_state = 10 )\n",
    "\n",
    "for nome_modelo,modelo in modelos.items():\n",
    "    #treinar\n",
    "    modelo.fit(x_train, y_train)\n",
    "    #testar\n",
    "    previsao = modelo.predict(x_test)\n",
    "    \n",
    "    print(avaliar_modelo(nome_modelo,y_test,previsao))\n",
    "    "
   ]
  },
  {
   "cell_type": "code",
   "execution_count": 57,
   "id": "d13a1ccb",
   "metadata": {
    "hidden": true
   },
   "outputs": [
    {
     "data": {
      "image/png": "[encoded data removed]",
      "text/plain": [
       "<Figure size 1800x1080 with 1 Axes>"
      ]
     },
     "metadata": {},
     "output_type": "display_data"
    }
   ],
   "source": [
    "#print(modelo_et.feature_importances_)\n",
    "#print(x_train.columns)\n",
    "importancia = pd.DataFrame(modelo_et.feature_importances_, x_train.columns)\n",
    "importancia = importancia.sort_values(by = 0, ascending = False)\n",
    "\n",
    "plt.figure(figsize=(25,15))\n",
    "ax = sns.barplot(x=importancia.index,y=importancia[0])\n",
    "ax.tick_params(axis = 'x',rotation = 90)\n",
    "\n",
    "# qual combinaçao mais importante para o preço \n"
   ]
  },
  {
   "cell_type": "code",
   "execution_count": 56,
   "id": "c567f7a3",
   "metadata": {
    "hidden": true
   },
   "outputs": [
    {
     "data": {
      "text/html": [
       "<div>\n",
       "<style scoped>\n",
       "    .dataframe tbody tr th:only-of-type {\n",
       "        vertical-align: middle;\n",
       "    }\n",
       "\n",
       "    .dataframe tbody tr th {\n",
       "        vertical-align: top;\n",
       "    }\n",
       "\n",
       "    .dataframe thead th {\n",
       "        text-align: right;\n",
       "    }\n",
       "</style>\n",
       "<table border=\"1\" class=\"dataframe\">\n",
       "  <thead>\n",
       "    <tr style=\"text-align: right;\">\n",
       "      <th></th>\n",
       "      <th>0</th>\n",
       "    </tr>\n",
       "  </thead>\n",
       "  <tbody>\n",
       "    <tr>\n",
       "      <th>quartos</th>\n",
       "      <td>0.126355</td>\n",
       "    </tr>\n",
       "    <tr>\n",
       "      <th>latitude</th>\n",
       "      <td>0.108127</td>\n",
       "    </tr>\n",
       "    <tr>\n",
       "      <th>longitude</th>\n",
       "      <td>0.107376</td>\n",
       "    </tr>\n",
       "    <tr>\n",
       "      <th>n_amenities</th>\n",
       "      <td>0.091905</td>\n",
       "    </tr>\n",
       "    <tr>\n",
       "      <th>acomodacoes</th>\n",
       "      <td>0.088766</td>\n",
       "    </tr>\n",
       "    <tr>\n",
       "      <th>pessoas_extra</th>\n",
       "      <td>0.081931</td>\n",
       "    </tr>\n",
       "    <tr>\n",
       "      <th>banheiros</th>\n",
       "      <td>0.070963</td>\n",
       "    </tr>\n",
       "    <tr>\n",
       "      <th>noites_min</th>\n",
       "      <td>0.068501</td>\n",
       "    </tr>\n",
       "    <tr>\n",
       "      <th>camas</th>\n",
       "      <td>0.053564</td>\n",
       "    </tr>\n",
       "    <tr>\n",
       "      <th>tipo_quarto_Entire home/apt</th>\n",
       "      <td>0.046684</td>\n",
       "    </tr>\n",
       "    <tr>\n",
       "      <th>perfil_verificado</th>\n",
       "      <td>0.022985</td>\n",
       "    </tr>\n",
       "    <tr>\n",
       "      <th>reserva_instantanea</th>\n",
       "      <td>0.020007</td>\n",
       "    </tr>\n",
       "    <tr>\n",
       "      <th>cancelamento_flexible</th>\n",
       "      <td>0.019185</td>\n",
       "    </tr>\n",
       "    <tr>\n",
       "      <th>ano</th>\n",
       "      <td>0.013736</td>\n",
       "    </tr>\n",
       "    <tr>\n",
       "      <th>cancelamento_moderate</th>\n",
       "      <td>0.012634</td>\n",
       "    </tr>\n",
       "    <tr>\n",
       "      <th>tipo_propriedade_Apartment</th>\n",
       "      <td>0.012154</td>\n",
       "    </tr>\n",
       "    <tr>\n",
       "      <th>cancelamento_strict_14_with_grace_period</th>\n",
       "      <td>0.008446</td>\n",
       "    </tr>\n",
       "    <tr>\n",
       "      <th>tipo_propriedade_House</th>\n",
       "      <td>0.007159</td>\n",
       "    </tr>\n",
       "    <tr>\n",
       "      <th>mes</th>\n",
       "      <td>0.007158</td>\n",
       "    </tr>\n",
       "    <tr>\n",
       "      <th>tipo_propriedade_Condominium</th>\n",
       "      <td>0.006019</td>\n",
       "    </tr>\n",
       "    <tr>\n",
       "      <th>tipo_quarto_Private room</th>\n",
       "      <td>0.004598</td>\n",
       "    </tr>\n",
       "    <tr>\n",
       "      <th>tipo_propriedade_Outros</th>\n",
       "      <td>0.003257</td>\n",
       "    </tr>\n",
       "    <tr>\n",
       "      <th>tipo_propriedade_Serviced apartment</th>\n",
       "      <td>0.003198</td>\n",
       "    </tr>\n",
       "    <tr>\n",
       "      <th>cancelamento_strict</th>\n",
       "      <td>0.002524</td>\n",
       "    </tr>\n",
       "    <tr>\n",
       "      <th>tipo_propriedade_Loft</th>\n",
       "      <td>0.002457</td>\n",
       "    </tr>\n",
       "    <tr>\n",
       "      <th>tipo_cama_Pull-out Sofa</th>\n",
       "      <td>0.002034</td>\n",
       "    </tr>\n",
       "    <tr>\n",
       "      <th>tipo_cama_Real Bed</th>\n",
       "      <td>0.001830</td>\n",
       "    </tr>\n",
       "    <tr>\n",
       "      <th>tipo_quarto_Shared room</th>\n",
       "      <td>0.001801</td>\n",
       "    </tr>\n",
       "    <tr>\n",
       "      <th>tipo_propriedade_Bed and breakfast</th>\n",
       "      <td>0.001349</td>\n",
       "    </tr>\n",
       "    <tr>\n",
       "      <th>tipo_propriedade_Guest suite</th>\n",
       "      <td>0.000794</td>\n",
       "    </tr>\n",
       "    <tr>\n",
       "      <th>tipo_propriedade_Hostel</th>\n",
       "      <td>0.000735</td>\n",
       "    </tr>\n",
       "    <tr>\n",
       "      <th>tipo_cama_Futon</th>\n",
       "      <td>0.000562</td>\n",
       "    </tr>\n",
       "    <tr>\n",
       "      <th>tipo_cama_Couch</th>\n",
       "      <td>0.000482</td>\n",
       "    </tr>\n",
       "    <tr>\n",
       "      <th>tipo_quarto_Hotel room</th>\n",
       "      <td>0.000365</td>\n",
       "    </tr>\n",
       "    <tr>\n",
       "      <th>tipo_cama_Airbed</th>\n",
       "      <td>0.000358</td>\n",
       "    </tr>\n",
       "    <tr>\n",
       "      <th>viagens_negocio</th>\n",
       "      <td>0.000000</td>\n",
       "    </tr>\n",
       "  </tbody>\n",
       "</table>\n",
       "</div>"
      ],
      "text/plain": [
       "                                                 0\n",
       "quartos                                   0.126355\n",
       "latitude                                  0.108127\n",
       "longitude                                 0.107376\n",
       "n_amenities                               0.091905\n",
       "acomodacoes                               0.088766\n",
       "pessoas_extra                             0.081931\n",
       "banheiros                                 0.070963\n",
       "noites_min                                0.068501\n",
       "camas                                     0.053564\n",
       "tipo_quarto_Entire home/apt               0.046684\n",
       "perfil_verificado                         0.022985\n",
       "reserva_instantanea                       0.020007\n",
       "cancelamento_flexible                     0.019185\n",
       "ano                                       0.013736\n",
       "cancelamento_moderate                     0.012634\n",
       "tipo_propriedade_Apartment                0.012154\n",
       "cancelamento_strict_14_with_grace_period  0.008446\n",
       "tipo_propriedade_House                    0.007159\n",
       "mes                                       0.007158\n",
       "tipo_propriedade_Condominium              0.006019\n",
       "tipo_quarto_Private room                  0.004598\n",
       "tipo_propriedade_Outros                   0.003257\n",
       "tipo_propriedade_Serviced apartment       0.003198\n",
       "cancelamento_strict                       0.002524\n",
       "tipo_propriedade_Loft                     0.002457\n",
       "tipo_cama_Pull-out Sofa                   0.002034\n",
       "tipo_cama_Real Bed                        0.001830\n",
       "tipo_quarto_Shared room                   0.001801\n",
       "tipo_propriedade_Bed and breakfast        0.001349\n",
       "tipo_propriedade_Guest suite              0.000794\n",
       "tipo_propriedade_Hostel                   0.000735\n",
       "tipo_cama_Futon                           0.000562\n",
       "tipo_cama_Couch                           0.000482\n",
       "tipo_quarto_Hotel room                    0.000365\n",
       "tipo_cama_Airbed                          0.000358\n",
       "viagens_negocio                           0.000000"
      ]
     },
     "metadata": {},
     "output_type": "display_data"
    }
   ],
   "source": [
    "display(importancia)\n"
   ]
  },
  {
   "cell_type": "markdown",
   "id": "03f19330",
   "metadata": {
    "hidden": true
   },
   "source": [
    "   Com o modelo de previsão é possivel identificar  os fatores que mais impactam no valor do aluguel de um imovél."
   ]
  }
 ],
 "metadata": {
  "kernelspec": {
   "display_name": "Python 3 (ipykernel)",
   "language": "python",
   "name": "python3"
  },
  "language_info": {
   "codemirror_mode": {
    "name": "ipython",
    "version": 3
   },
   "file_extension": ".py",
   "mimetype": "text/x-python",
   "name": "python",
   "nbconvert_exporter": "python",
   "pygments_lexer": "ipython3",
   "version": "3.9.12"
  },
  "toc": {
   "base_numbering": 1,
   "nav_menu": {},
   "number_sections": true,
   "sideBar": true,
   "skip_h1_title": false,
   "title_cell": "Table of Contents",
   "title_sidebar": "Contents",
   "toc_cell": false,
   "toc_position": {},
   "toc_section_display": true,
   "toc_window_display": false
  }
 },
 "nbformat": 4,
 "nbformat_minor": 5
}
